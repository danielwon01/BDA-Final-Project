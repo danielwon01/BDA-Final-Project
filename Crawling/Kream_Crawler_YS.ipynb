{
 "cells": [
  {
   "cell_type": "markdown",
   "id": "f78a9967",
   "metadata": {},
   "source": [
    "# Kream Data 크롤러"
   ]
  },
  {
   "cell_type": "code",
   "execution_count": 37,
   "id": "bb0d00e3",
   "metadata": {},
   "outputs": [],
   "source": [
    "import time\n",
    "import requests\n",
    "from bs4 import BeautifulSoup\n",
    "from selenium import webdriver\n",
    "from selenium.webdriver.common.keys import Keys\n",
    "\n",
    "from selenium.webdriver.common.by import By\n",
    "from selenium.webdriver.support.ui import WebDriverWait\n",
    "from selenium.webdriver.support import expected_conditions as EC\n",
    "\n",
    "import pandas as pd\n",
    "import numpy as np\n",
    "\n",
    "pd.options.display.max_rows=100\n",
    "pd.options.display.max_columns=100"
   ]
  },
  {
   "cell_type": "markdown",
   "id": "b8dfc08d",
   "metadata": {},
   "source": [
    "## 크롬드라이버 열고, kream 로그인"
   ]
  },
  {
   "cell_type": "code",
   "execution_count": 38,
   "id": "ea0b6584",
   "metadata": {},
   "outputs": [
    {
     "name": "stderr",
     "output_type": "stream",
     "text": [
      "C:\\Users\\goshd\\AppData\\Local\\Temp/ipykernel_19384/2144316095.py:5: DeprecationWarning: executable_path has been deprecated, please pass in a Service object\n",
      "  driver = webdriver.Chrome('.//chromedriver.exe')\n"
     ]
    }
   ],
   "source": [
    "# 크롬창 열기\n",
    "# driver = webdriver.Chrome('./chromedriver')\n",
    "\n",
    "# 윈도우 사용자\n",
    "driver = webdriver.Chrome('.//chromedriver.exe')"
   ]
  },
  {
   "cell_type": "code",
   "execution_count": null,
   "id": "d59b3095",
   "metadata": {},
   "outputs": [],
   "source": [
    "# 크림 홈페이지 접속 후 로그인 미리 실행\n",
    "# https://kream.co.kr/"
   ]
  },
  {
   "cell_type": "markdown",
   "id": "dd48f837",
   "metadata": {},
   "source": [
    "## list312 불러오기"
   ]
  },
  {
   "cell_type": "code",
   "execution_count": 41,
   "id": "b74d4ffd",
   "metadata": {},
   "outputs": [],
   "source": [
    "list104 = pd.read_csv('./DB/p_number/list104.csv')"
   ]
  },
  {
   "cell_type": "code",
   "execution_count": 42,
   "id": "f7dcb753",
   "metadata": {},
   "outputs": [
    {
     "data": {
      "text/html": [
       "<div>\n",
       "<style scoped>\n",
       "    .dataframe tbody tr th:only-of-type {\n",
       "        vertical-align: middle;\n",
       "    }\n",
       "\n",
       "    .dataframe tbody tr th {\n",
       "        vertical-align: top;\n",
       "    }\n",
       "\n",
       "    .dataframe thead th {\n",
       "        text-align: right;\n",
       "    }\n",
       "</style>\n",
       "<table border=\"1\" class=\"dataframe\">\n",
       "  <thead>\n",
       "    <tr style=\"text-align: right;\">\n",
       "      <th></th>\n",
       "      <th>number</th>\n",
       "      <th>transactions</th>\n",
       "    </tr>\n",
       "  </thead>\n",
       "  <tbody>\n",
       "    <tr>\n",
       "      <th>0</th>\n",
       "      <td>28029</td>\n",
       "      <td>8.9만</td>\n",
       "    </tr>\n",
       "    <tr>\n",
       "      <th>1</th>\n",
       "      <td>28030</td>\n",
       "      <td>4.5만</td>\n",
       "    </tr>\n",
       "    <tr>\n",
       "      <th>2</th>\n",
       "      <td>41637</td>\n",
       "      <td>3,217</td>\n",
       "    </tr>\n",
       "    <tr>\n",
       "      <th>3</th>\n",
       "      <td>41193</td>\n",
       "      <td>1.3만</td>\n",
       "    </tr>\n",
       "    <tr>\n",
       "      <th>4</th>\n",
       "      <td>43374</td>\n",
       "      <td>9,868</td>\n",
       "    </tr>\n",
       "    <tr>\n",
       "      <th>...</th>\n",
       "      <td>...</td>\n",
       "      <td>...</td>\n",
       "    </tr>\n",
       "    <tr>\n",
       "      <th>99</th>\n",
       "      <td>37818</td>\n",
       "      <td>4</td>\n",
       "    </tr>\n",
       "    <tr>\n",
       "      <th>100</th>\n",
       "      <td>37770</td>\n",
       "      <td>35</td>\n",
       "    </tr>\n",
       "    <tr>\n",
       "      <th>101</th>\n",
       "      <td>37463</td>\n",
       "      <td>1,058</td>\n",
       "    </tr>\n",
       "    <tr>\n",
       "      <th>102</th>\n",
       "      <td>43208</td>\n",
       "      <td>1</td>\n",
       "    </tr>\n",
       "    <tr>\n",
       "      <th>103</th>\n",
       "      <td>34096</td>\n",
       "      <td>639</td>\n",
       "    </tr>\n",
       "  </tbody>\n",
       "</table>\n",
       "<p>104 rows × 2 columns</p>\n",
       "</div>"
      ],
      "text/plain": [
       "     number transactions\n",
       "0     28029         8.9만\n",
       "1     28030         4.5만\n",
       "2     41637        3,217\n",
       "3     41193         1.3만\n",
       "4     43374        9,868\n",
       "..      ...          ...\n",
       "99    37818            4\n",
       "100   37770           35\n",
       "101   37463        1,058\n",
       "102   43208            1\n",
       "103   34096          639\n",
       "\n",
       "[104 rows x 2 columns]"
      ]
     },
     "execution_count": 42,
     "metadata": {},
     "output_type": "execute_result"
    }
   ],
   "source": [
    "list104"
   ]
  },
  {
   "cell_type": "markdown",
   "id": "1a8adb66",
   "metadata": {},
   "source": [
    "## 크롤링 함수 만들기"
   ]
  },
  {
   "cell_type": "code",
   "execution_count": 43,
   "id": "bf72de83",
   "metadata": {},
   "outputs": [],
   "source": [
    "# 스크롤 다운 함수 정의\n",
    "import datetime\n",
    "    \n",
    "def doScrollDown(whileSeconds):\n",
    "    start = datetime.datetime.now()\n",
    "    end = start + datetime.timedelta(seconds=whileSeconds)\n",
    "    while True:\n",
    "        itemlist = driver.find_element_by_class_name(\"price_body\")\n",
    "        driver.execute_script(\"arguments[0].scrollBy(0, -100)\", itemlist)\n",
    "        driver.execute_script(\"arguments[0].scrollBy(0, document.body.scrollHeight)\", itemlist)\n",
    "        time.sleep(1)\n",
    "        if datetime.datetime.now() > end:\n",
    "            break"
   ]
  },
  {
   "cell_type": "code",
   "execution_count": 44,
   "id": "67f59b63",
   "metadata": {},
   "outputs": [],
   "source": [
    "# 크롤링 함수\n",
    "def crawler(number, seconds):\n",
    "    # 신발 선택\n",
    "    url = 'https://kream.co.kr/products/{0}'.format(number)\n",
    "    driver.get(url)\n",
    "#     # 암시적 대기, 웹페이지 전체가 뜰때까지 대기\n",
    "#     driver.implicitly_wait(5)\n",
    "    # 명시적 대기, 특정 Xpath가 뜰때까지 대기\n",
    "    WebDriverWait(driver, 5).until(EC.presence_of_element_located((By.XPATH,'//*[@id=\"panel1\"]/div/table/tbody/tr[1]/td[3]')))\n",
    "    # 이름 뽑기\n",
    "    html = driver.page_source\n",
    "    soup = BeautifulSoup(html, 'html.parser')\n",
    "    item = soup.select('div.main_title_box > p.title')\n",
    "    product_name = item[0].text\n",
    "    # 컬럼 뽑기\n",
    "    item = soup.select('dl.detail_product')\n",
    "    cols = item[0].text.replace('\\n', '').replace(' ','')\n",
    "    r1 = cols.find('출시일')\n",
    "    r2 = cols.find('컬러')\n",
    "    r3 = cols.find('발매가')\n",
    "    release_date = cols[r1+3:r2]\n",
    "    color = cols[r2+2:r3]\n",
    "    release_price = cols[r3+3:]\n",
    "    # end_date\n",
    "    end_date = soup.select('td.table_td.align_right')[1].text.replace('\\n','').replace(' ','')\n",
    "    # 체결 내역 더보기 클릭 (copy Xpath)\n",
    "    driver.find_element_by_xpath('//*[@id=\"panel1\"]/a').click()\n",
    "    driver.find_element_by_xpath('//*[@id=\"panel1\"]/div/div/div[1]/div/div[3]/a').click()\n",
    "    # 체결 내역 더보기 스크롤 다운\n",
    "    doScrollDown(seconds)\n",
    "    # 데이터 추출\n",
    "    html = driver.page_source\n",
    "    soup = BeautifulSoup(html, 'html.parser')\n",
    "    size_list = []\n",
    "    price_list = []\n",
    "    date_list = []\n",
    "    for i in range(len(soup.select('div.body_list > div.list_txt'))):\n",
    "        item = soup.select('div.body_list > div.list_txt')[i].text.replace('\\n', '').replace(' ','')\n",
    "        if i%3 == 0:\n",
    "            size_list.append(item)\n",
    "        elif i%3 == 1:\n",
    "            price_list.append(item)\n",
    "        elif i%3 == 2:\n",
    "            date_list.append(item)\n",
    "    df = pd.DataFrame({'size': size_list, 'price': price_list, 'date': date_list})\n",
    "    df['product'] = product_name\n",
    "    df['release_date'] = release_date\n",
    "    df['color'] = color\n",
    "    df['release_price'] = release_price\n",
    "    file_name = product_name.replace(' ','_')\n",
    "    df.to_csv('DB/{0}.csv'.format(file_name))\n",
    "    if df['date'].max() == end_date :\n",
    "        print('<<크롤링 완벽히 성공>>')\n",
    "    else:\n",
    "        print(\"@@@@@@@@스크롤 부족!! 이 상품 다시 크롤링하세요@@@@@@@@\")\n",
    "    print('{0} ~ {1} ({2})'.format(df['date'].min(), df['date'].max(), end_date))\n",
    "    print(f'{file_name} 저장완료!')\n",
    "    print('----'*10)"
   ]
  },
  {
   "cell_type": "markdown",
   "id": "3842bce1",
   "metadata": {},
   "source": [
    "## 크롤링하기\n",
    "- crawler함수\n",
    "    - number는 상품번호\n",
    "    - seconds는 스크롤내리는 초 설정 (승혁이는 아마 엄청 크게 잡아야할 것 같음)\n",
    "- 설명\n",
    "\n",
    "\n",
    "20/05/28 ~ 21/12/06 (21/12/06)<br>\n",
    "Nike_x_Travis_Scott_SB_Dunk_Low_(Special_Box) 저장완료!<br>\n",
    "18번째 완료\n",
    "\n",
    "- 위와 같은 메시지가 나오는데 이걸 설명해줄게\n",
    "    - 20/05/28 ~ 21/12/06 (21/12/06) 여기서 앞은 우리가 추출한 최소,최대 날짜고, (괄호)안에 들어가는거는 최대날짜와 일치해야 모든 스크롤을 잘 돌린 것임.\n",
    "    - 저장이 완료되면 몇번째 상품인지도 나오니깐, 만약에 데이터가 너무 커서 n번째에 중단되었다면 다음번 실행때는 n번째부터 돌아가도록 하면됨.\n"
   ]
  },
  {
   "cell_type": "code",
   "execution_count": 46,
   "id": "54f77af6",
   "metadata": {},
   "outputs": [
    {
     "name": "stderr",
     "output_type": "stream",
     "text": [
      "C:\\Users\\goshd\\AppData\\Local\\Temp/ipykernel_19384/1329951444.py:27: DeprecationWarning: find_element_by_* commands are deprecated. Please use find_element() instead\n",
      "  driver.find_element_by_xpath('//*[@id=\"panel1\"]/a').click()\n",
      "C:\\Users\\goshd\\AppData\\Local\\Temp/ipykernel_19384/1329951444.py:28: DeprecationWarning: find_element_by_* commands are deprecated. Please use find_element() instead\n",
      "  driver.find_element_by_xpath('//*[@id=\"panel1\"]/div/div/div[1]/div/div[3]/a').click()\n"
     ]
    },
    {
     "ename": "ElementNotInteractableException",
     "evalue": "Message: element not interactable\n  (Session info: chrome=96.0.4664.110)\nStacktrace:\nBacktrace:\n\tOrdinal0 [0x006D6903+2517251]\n\tOrdinal0 [0x0066F8E1+2095329]\n\tOrdinal0 [0x00572710+1058576]\n\tOrdinal0 [0x0059E324+1237796]\n\tOrdinal0 [0x00594037+1196087]\n\tOrdinal0 [0x005B64D3+1336531]\n\tOrdinal0 [0x00593A36+1194550]\n\tOrdinal0 [0x005B65BA+1336762]\n\tOrdinal0 [0x005C5BBF+1399743]\n\tOrdinal0 [0x005B639B+1336219]\n\tOrdinal0 [0x005927A7+1189799]\n\tOrdinal0 [0x00593609+1193481]\n\tGetHandleVerifier [0x00865904+1577972]\n\tGetHandleVerifier [0x00910B97+2279047]\n\tGetHandleVerifier [0x00766D09+534521]\n\tGetHandleVerifier [0x00765DB9+530601]\n\tOrdinal0 [0x00674FF9+2117625]\n\tOrdinal0 [0x006798A8+2136232]\n\tOrdinal0 [0x006799E2+2136546]\n\tOrdinal0 [0x00683541+2176321]\n\tBaseThreadInitThunk [0x76B26739+25]\n\tRtlGetFullPathName_UEx [0x77B08AFF+1215]\n\tRtlGetFullPathName_UEx [0x77B08ACD+1165]\n",
     "output_type": "error",
     "traceback": [
      "\u001b[1;31m---------------------------------------------------------------------------\u001b[0m",
      "\u001b[1;31mElementNotInteractableException\u001b[0m           Traceback (most recent call last)",
      "\u001b[1;32m~\\AppData\\Local\\Temp/ipykernel_19384/1468591625.py\u001b[0m in \u001b[0;36m<module>\u001b[1;34m\u001b[0m\n\u001b[0;32m      8\u001b[0m     \u001b[1;32mif\u001b[0m \u001b[0mi\u001b[0m \u001b[1;33m>=\u001b[0m \u001b[1;36m4\u001b[0m\u001b[1;33m:\u001b[0m\u001b[1;33m\u001b[0m\u001b[1;33m\u001b[0m\u001b[0m\n\u001b[0;32m      9\u001b[0m         \u001b[0mnumber\u001b[0m \u001b[1;33m=\u001b[0m \u001b[0mlist104\u001b[0m\u001b[1;33m[\u001b[0m\u001b[1;34m'number'\u001b[0m\u001b[1;33m]\u001b[0m\u001b[1;33m[\u001b[0m\u001b[0mi\u001b[0m\u001b[1;33m]\u001b[0m\u001b[1;33m\u001b[0m\u001b[1;33m\u001b[0m\u001b[0m\n\u001b[1;32m---> 10\u001b[1;33m         \u001b[0mcrawler\u001b[0m\u001b[1;33m(\u001b[0m\u001b[0mnumber\u001b[0m\u001b[1;33m,\u001b[0m \u001b[1;36m10\u001b[0m\u001b[1;33m)\u001b[0m\u001b[1;33m\u001b[0m\u001b[1;33m\u001b[0m\u001b[0m\n\u001b[0m\u001b[0;32m     11\u001b[0m         \u001b[0mprint\u001b[0m\u001b[1;33m(\u001b[0m\u001b[1;34mf'{i}번째 {number} 크롤링 완료'\u001b[0m\u001b[1;33m)\u001b[0m\u001b[1;33m\u001b[0m\u001b[1;33m\u001b[0m\u001b[0m\n\u001b[0;32m     12\u001b[0m         \u001b[0mprint\u001b[0m\u001b[1;33m(\u001b[0m\u001b[1;34m'===='\u001b[0m\u001b[1;33m*\u001b[0m\u001b[1;36m10\u001b[0m\u001b[1;33m)\u001b[0m\u001b[1;33m\u001b[0m\u001b[1;33m\u001b[0m\u001b[0m\n",
      "\u001b[1;32m~\\AppData\\Local\\Temp/ipykernel_19384/1329951444.py\u001b[0m in \u001b[0;36mcrawler\u001b[1;34m(number, seconds)\u001b[0m\n\u001b[0;32m     26\u001b[0m     \u001b[1;31m# 체결 내역 더보기 클릭 (copy Xpath)\u001b[0m\u001b[1;33m\u001b[0m\u001b[1;33m\u001b[0m\u001b[0m\n\u001b[0;32m     27\u001b[0m     \u001b[0mdriver\u001b[0m\u001b[1;33m.\u001b[0m\u001b[0mfind_element_by_xpath\u001b[0m\u001b[1;33m(\u001b[0m\u001b[1;34m'//*[@id=\"panel1\"]/a'\u001b[0m\u001b[1;33m)\u001b[0m\u001b[1;33m.\u001b[0m\u001b[0mclick\u001b[0m\u001b[1;33m(\u001b[0m\u001b[1;33m)\u001b[0m\u001b[1;33m\u001b[0m\u001b[1;33m\u001b[0m\u001b[0m\n\u001b[1;32m---> 28\u001b[1;33m     \u001b[0mdriver\u001b[0m\u001b[1;33m.\u001b[0m\u001b[0mfind_element_by_xpath\u001b[0m\u001b[1;33m(\u001b[0m\u001b[1;34m'//*[@id=\"panel1\"]/div/div/div[1]/div/div[3]/a'\u001b[0m\u001b[1;33m)\u001b[0m\u001b[1;33m.\u001b[0m\u001b[0mclick\u001b[0m\u001b[1;33m(\u001b[0m\u001b[1;33m)\u001b[0m\u001b[1;33m\u001b[0m\u001b[1;33m\u001b[0m\u001b[0m\n\u001b[0m\u001b[0;32m     29\u001b[0m     \u001b[1;31m# 체결 내역 더보기 스크롤 다운\u001b[0m\u001b[1;33m\u001b[0m\u001b[1;33m\u001b[0m\u001b[0m\n\u001b[0;32m     30\u001b[0m     \u001b[0mdoScrollDown\u001b[0m\u001b[1;33m(\u001b[0m\u001b[0mseconds\u001b[0m\u001b[1;33m)\u001b[0m\u001b[1;33m\u001b[0m\u001b[1;33m\u001b[0m\u001b[0m\n",
      "\u001b[1;32m~\\anaconda3\\envs\\test\\lib\\site-packages\\selenium\\webdriver\\remote\\webelement.py\u001b[0m in \u001b[0;36mclick\u001b[1;34m(self)\u001b[0m\n\u001b[0;32m     79\u001b[0m     \u001b[1;32mdef\u001b[0m \u001b[0mclick\u001b[0m\u001b[1;33m(\u001b[0m\u001b[0mself\u001b[0m\u001b[1;33m)\u001b[0m \u001b[1;33m->\u001b[0m \u001b[1;32mNone\u001b[0m\u001b[1;33m:\u001b[0m\u001b[1;33m\u001b[0m\u001b[1;33m\u001b[0m\u001b[0m\n\u001b[0;32m     80\u001b[0m         \u001b[1;34m\"\"\"Clicks the element.\"\"\"\u001b[0m\u001b[1;33m\u001b[0m\u001b[1;33m\u001b[0m\u001b[0m\n\u001b[1;32m---> 81\u001b[1;33m         \u001b[0mself\u001b[0m\u001b[1;33m.\u001b[0m\u001b[0m_execute\u001b[0m\u001b[1;33m(\u001b[0m\u001b[0mCommand\u001b[0m\u001b[1;33m.\u001b[0m\u001b[0mCLICK_ELEMENT\u001b[0m\u001b[1;33m)\u001b[0m\u001b[1;33m\u001b[0m\u001b[1;33m\u001b[0m\u001b[0m\n\u001b[0m\u001b[0;32m     82\u001b[0m \u001b[1;33m\u001b[0m\u001b[0m\n\u001b[0;32m     83\u001b[0m     \u001b[1;32mdef\u001b[0m \u001b[0msubmit\u001b[0m\u001b[1;33m(\u001b[0m\u001b[0mself\u001b[0m\u001b[1;33m)\u001b[0m\u001b[1;33m:\u001b[0m\u001b[1;33m\u001b[0m\u001b[1;33m\u001b[0m\u001b[0m\n",
      "\u001b[1;32m~\\anaconda3\\envs\\test\\lib\\site-packages\\selenium\\webdriver\\remote\\webelement.py\u001b[0m in \u001b[0;36m_execute\u001b[1;34m(self, command, params)\u001b[0m\n\u001b[0;32m    708\u001b[0m             \u001b[0mparams\u001b[0m \u001b[1;33m=\u001b[0m \u001b[1;33m{\u001b[0m\u001b[1;33m}\u001b[0m\u001b[1;33m\u001b[0m\u001b[1;33m\u001b[0m\u001b[0m\n\u001b[0;32m    709\u001b[0m         \u001b[0mparams\u001b[0m\u001b[1;33m[\u001b[0m\u001b[1;34m'id'\u001b[0m\u001b[1;33m]\u001b[0m \u001b[1;33m=\u001b[0m \u001b[0mself\u001b[0m\u001b[1;33m.\u001b[0m\u001b[0m_id\u001b[0m\u001b[1;33m\u001b[0m\u001b[1;33m\u001b[0m\u001b[0m\n\u001b[1;32m--> 710\u001b[1;33m         \u001b[1;32mreturn\u001b[0m \u001b[0mself\u001b[0m\u001b[1;33m.\u001b[0m\u001b[0m_parent\u001b[0m\u001b[1;33m.\u001b[0m\u001b[0mexecute\u001b[0m\u001b[1;33m(\u001b[0m\u001b[0mcommand\u001b[0m\u001b[1;33m,\u001b[0m \u001b[0mparams\u001b[0m\u001b[1;33m)\u001b[0m\u001b[1;33m\u001b[0m\u001b[1;33m\u001b[0m\u001b[0m\n\u001b[0m\u001b[0;32m    711\u001b[0m \u001b[1;33m\u001b[0m\u001b[0m\n\u001b[0;32m    712\u001b[0m     \u001b[1;32mdef\u001b[0m \u001b[0mfind_element\u001b[0m\u001b[1;33m(\u001b[0m\u001b[0mself\u001b[0m\u001b[1;33m,\u001b[0m \u001b[0mby\u001b[0m\u001b[1;33m=\u001b[0m\u001b[0mBy\u001b[0m\u001b[1;33m.\u001b[0m\u001b[0mID\u001b[0m\u001b[1;33m,\u001b[0m \u001b[0mvalue\u001b[0m\u001b[1;33m=\u001b[0m\u001b[1;32mNone\u001b[0m\u001b[1;33m)\u001b[0m\u001b[1;33m:\u001b[0m\u001b[1;33m\u001b[0m\u001b[1;33m\u001b[0m\u001b[0m\n",
      "\u001b[1;32m~\\anaconda3\\envs\\test\\lib\\site-packages\\selenium\\webdriver\\remote\\webdriver.py\u001b[0m in \u001b[0;36mexecute\u001b[1;34m(self, driver_command, params)\u001b[0m\n\u001b[0;32m    422\u001b[0m         \u001b[0mresponse\u001b[0m \u001b[1;33m=\u001b[0m \u001b[0mself\u001b[0m\u001b[1;33m.\u001b[0m\u001b[0mcommand_executor\u001b[0m\u001b[1;33m.\u001b[0m\u001b[0mexecute\u001b[0m\u001b[1;33m(\u001b[0m\u001b[0mdriver_command\u001b[0m\u001b[1;33m,\u001b[0m \u001b[0mparams\u001b[0m\u001b[1;33m)\u001b[0m\u001b[1;33m\u001b[0m\u001b[1;33m\u001b[0m\u001b[0m\n\u001b[0;32m    423\u001b[0m         \u001b[1;32mif\u001b[0m \u001b[0mresponse\u001b[0m\u001b[1;33m:\u001b[0m\u001b[1;33m\u001b[0m\u001b[1;33m\u001b[0m\u001b[0m\n\u001b[1;32m--> 424\u001b[1;33m             \u001b[0mself\u001b[0m\u001b[1;33m.\u001b[0m\u001b[0merror_handler\u001b[0m\u001b[1;33m.\u001b[0m\u001b[0mcheck_response\u001b[0m\u001b[1;33m(\u001b[0m\u001b[0mresponse\u001b[0m\u001b[1;33m)\u001b[0m\u001b[1;33m\u001b[0m\u001b[1;33m\u001b[0m\u001b[0m\n\u001b[0m\u001b[0;32m    425\u001b[0m             response['value'] = self._unwrap_value(\n\u001b[0;32m    426\u001b[0m                 response.get('value', None))\n",
      "\u001b[1;32m~\\anaconda3\\envs\\test\\lib\\site-packages\\selenium\\webdriver\\remote\\errorhandler.py\u001b[0m in \u001b[0;36mcheck_response\u001b[1;34m(self, response)\u001b[0m\n\u001b[0;32m    245\u001b[0m                 \u001b[0malert_text\u001b[0m \u001b[1;33m=\u001b[0m \u001b[0mvalue\u001b[0m\u001b[1;33m[\u001b[0m\u001b[1;34m'alert'\u001b[0m\u001b[1;33m]\u001b[0m\u001b[1;33m.\u001b[0m\u001b[0mget\u001b[0m\u001b[1;33m(\u001b[0m\u001b[1;34m'text'\u001b[0m\u001b[1;33m)\u001b[0m\u001b[1;33m\u001b[0m\u001b[1;33m\u001b[0m\u001b[0m\n\u001b[0;32m    246\u001b[0m             \u001b[1;32mraise\u001b[0m \u001b[0mexception_class\u001b[0m\u001b[1;33m(\u001b[0m\u001b[0mmessage\u001b[0m\u001b[1;33m,\u001b[0m \u001b[0mscreen\u001b[0m\u001b[1;33m,\u001b[0m \u001b[0mstacktrace\u001b[0m\u001b[1;33m,\u001b[0m \u001b[0malert_text\u001b[0m\u001b[1;33m)\u001b[0m  \u001b[1;31m# type: ignore[call-arg]  # mypy is not smart enough here\u001b[0m\u001b[1;33m\u001b[0m\u001b[1;33m\u001b[0m\u001b[0m\n\u001b[1;32m--> 247\u001b[1;33m         \u001b[1;32mraise\u001b[0m \u001b[0mexception_class\u001b[0m\u001b[1;33m(\u001b[0m\u001b[0mmessage\u001b[0m\u001b[1;33m,\u001b[0m \u001b[0mscreen\u001b[0m\u001b[1;33m,\u001b[0m \u001b[0mstacktrace\u001b[0m\u001b[1;33m)\u001b[0m\u001b[1;33m\u001b[0m\u001b[1;33m\u001b[0m\u001b[0m\n\u001b[0m\u001b[0;32m    248\u001b[0m \u001b[1;33m\u001b[0m\u001b[0m\n\u001b[0;32m    249\u001b[0m     \u001b[1;32mdef\u001b[0m \u001b[0m_value_or_default\u001b[0m\u001b[1;33m(\u001b[0m\u001b[0mself\u001b[0m\u001b[1;33m,\u001b[0m \u001b[0mobj\u001b[0m\u001b[1;33m:\u001b[0m \u001b[0mMapping\u001b[0m\u001b[1;33m[\u001b[0m\u001b[0m_KT\u001b[0m\u001b[1;33m,\u001b[0m \u001b[0m_VT\u001b[0m\u001b[1;33m]\u001b[0m\u001b[1;33m,\u001b[0m \u001b[0mkey\u001b[0m\u001b[1;33m:\u001b[0m \u001b[0m_KT\u001b[0m\u001b[1;33m,\u001b[0m \u001b[0mdefault\u001b[0m\u001b[1;33m:\u001b[0m \u001b[0m_VT\u001b[0m\u001b[1;33m)\u001b[0m \u001b[1;33m->\u001b[0m \u001b[0m_VT\u001b[0m\u001b[1;33m:\u001b[0m\u001b[1;33m\u001b[0m\u001b[1;33m\u001b[0m\u001b[0m\n",
      "\u001b[1;31mElementNotInteractableException\u001b[0m: Message: element not interactable\n  (Session info: chrome=96.0.4664.110)\nStacktrace:\nBacktrace:\n\tOrdinal0 [0x006D6903+2517251]\n\tOrdinal0 [0x0066F8E1+2095329]\n\tOrdinal0 [0x00572710+1058576]\n\tOrdinal0 [0x0059E324+1237796]\n\tOrdinal0 [0x00594037+1196087]\n\tOrdinal0 [0x005B64D3+1336531]\n\tOrdinal0 [0x00593A36+1194550]\n\tOrdinal0 [0x005B65BA+1336762]\n\tOrdinal0 [0x005C5BBF+1399743]\n\tOrdinal0 [0x005B639B+1336219]\n\tOrdinal0 [0x005927A7+1189799]\n\tOrdinal0 [0x00593609+1193481]\n\tGetHandleVerifier [0x00865904+1577972]\n\tGetHandleVerifier [0x00910B97+2279047]\n\tGetHandleVerifier [0x00766D09+534521]\n\tGetHandleVerifier [0x00765DB9+530601]\n\tOrdinal0 [0x00674FF9+2117625]\n\tOrdinal0 [0x006798A8+2136232]\n\tOrdinal0 [0x006799E2+2136546]\n\tOrdinal0 [0x00683541+2176321]\n\tBaseThreadInitThunk [0x76B26739+25]\n\tRtlGetFullPathName_UEx [0x77B08AFF+1215]\n\tRtlGetFullPathName_UEx [0x77B08ACD+1165]\n"
     ]
    }
   ],
   "source": [
    "# for i in range(len(list104['number'])):\n",
    "#     number = list104['number'][i]\n",
    "#     crawler(number, 0)\n",
    "#     print(f'{i}번째 {number} 크롤링 완료')\n",
    "#     print('===='*10)\n",
    "\n",
    "for i in range(len(list104['number'])):\n",
    "    if i >= 4:\n",
    "        number = list104['number'][i]\n",
    "        crawler(number, 10)\n",
    "        print(f'{i}번째 {number} 크롤링 완료')\n",
    "        print('===='*10)\n",
    "    else:\n",
    "        continue"
   ]
  },
  {
   "cell_type": "markdown",
   "id": "04d2cbd5",
   "metadata": {},
   "source": [
    "#### 참고 문헌\n",
    "- https://hello-bryan.tistory.com/194,  https://jcstory94.tistory.com/69  스크롤다운 설명 링크\n",
    "- https://yganalyst.github.io/pythonic/memo_16_except/, https://medium.com/@peteryun/python-selenium%EC%9D%84-%ED%99%9C%EC%9A%A9%ED%95%9C-%ED%81%AC%EB%A1%A4%EB%9F%AC-%EB%A7%8C%EB%93%A4%EA%B8%B0-b055cefd1195 예외처리\n",
    "- https://yeko90.tistory.com/39 셀레니움 암시적 대기"
   ]
  },
  {
   "cell_type": "code",
   "execution_count": null,
   "id": "d486f82e",
   "metadata": {},
   "outputs": [],
   "source": []
  }
 ],
 "metadata": {
  "kernelspec": {
   "display_name": "Python 3 (ipykernel)",
   "language": "python",
   "name": "python3"
  },
  "language_info": {
   "codemirror_mode": {
    "name": "ipython",
    "version": 3
   },
   "file_extension": ".py",
   "mimetype": "text/x-python",
   "name": "python",
   "nbconvert_exporter": "python",
   "pygments_lexer": "ipython3",
   "version": "3.9.7"
  }
 },
 "nbformat": 4,
 "nbformat_minor": 5
}
