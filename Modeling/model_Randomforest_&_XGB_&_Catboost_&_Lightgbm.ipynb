{
  "cells": [
    {
      "cell_type": "code",
      "execution_count": 1,
      "metadata": {
        "id": "j7qiYb_kXTQr"
      },
      "outputs": [],
      "source": [
        "import numpy as np\n",
        "import pandas as pd\n",
        "import seaborn as sns\n",
        "import matplotlib.pyplot as plt\n",
        "\n",
        "import warnings\n",
        "warnings.filterwarnings(action='ignore')"
      ]
    },
    {
      "cell_type": "code",
      "execution_count": 2,
      "metadata": {
        "id": "HFpAHCYlXYOM"
      },
      "outputs": [],
      "source": [
        "from sklearn.ensemble import RandomForestRegressor\n",
        "from sklearn.model_selection import GridSearchCV\n",
        "import sklearn\n",
        "from sklearn.model_selection import cross_val_score"
      ]
    },
    {
      "cell_type": "code",
      "source": [
        "# xgboost 여러개의 결정트리를 임의적으로 학습하는 앙상블의 부스팅 유형 \n",
        "from sklearn.preprocessing import StandardScaler\n",
        "from catboost import CatBoostRegressor\n",
        "import lightgbm as lgb\n",
        "import xgboost as xgb\n",
        "from xgboost import XGBRegressor # 회귀트리 모델\n",
        "from xgboost import plot_importance # 중요변수 시각화\n",
        "from sklearn.model_selection import train_test_split\n",
        "from sklearn.metrics import mean_absolute_error, mean_squared_error\n",
        "from sklearn.model_selection import GridSearchCV\n",
        "from math import sqrt\n",
        "from sklearn.ensemble import RandomForestClassifier\n",
        "from sklearn.ensemble import RandomForestRegressor\n",
        "from sklearn.pipeline import Pipeline\n",
        "from sklearn.metrics import r2_score"
      ],
      "metadata": {
        "id": "ILuOmXrz8uQ7"
      },
      "execution_count": 3,
      "outputs": []
    },
    {
      "cell_type": "code",
      "execution_count": 4,
      "metadata": {
        "id": "fnoZQCwlXY49"
      },
      "outputs": [],
      "source": [
        "from sklearn.preprocessing import OneHotEncoder\n",
        "from sklearn.preprocessing import MinMaxScaler\n",
        "from sklearn.model_selection import train_test_split\n",
        "from sklearn.metrics import accuracy_score"
      ]
    },
    {
      "cell_type": "code",
      "execution_count": 5,
      "metadata": {
        "colab": {
          "base_uri": "https://localhost:8080/",
          "height": 467
        },
        "id": "5NSaj92oXY9X",
        "outputId": "7820e532-de4f-483e-968e-77c88150c68a"
      },
      "outputs": [
        {
          "output_type": "execute_result",
          "data": {
            "text/html": [
              "\n",
              "  <div id=\"df-3acdc5dd-631a-454f-abe9-a2ef021071c1\">\n",
              "    <div class=\"colab-df-container\">\n",
              "      <div>\n",
              "<style scoped>\n",
              "    .dataframe tbody tr th:only-of-type {\n",
              "        vertical-align: middle;\n",
              "    }\n",
              "\n",
              "    .dataframe tbody tr th {\n",
              "        vertical-align: top;\n",
              "    }\n",
              "\n",
              "    .dataframe thead th {\n",
              "        text-align: right;\n",
              "    }\n",
              "</style>\n",
              "<table border=\"1\" class=\"dataframe\">\n",
              "  <thead>\n",
              "    <tr style=\"text-align: right;\">\n",
              "      <th></th>\n",
              "      <th>size</th>\n",
              "      <th>price</th>\n",
              "      <th>date</th>\n",
              "      <th>product</th>\n",
              "      <th>release_date</th>\n",
              "      <th>color</th>\n",
              "      <th>release_price</th>\n",
              "      <th>brand</th>\n",
              "      <th>category</th>\n",
              "      <th>number</th>\n",
              "      <th>wish</th>\n",
              "      <th>review</th>\n",
              "      <th>transactions</th>\n",
              "      <th>type</th>\n",
              "      <th>review_log</th>\n",
              "      <th>wish_log</th>\n",
              "      <th>size_target</th>\n",
              "      <th>size_type</th>\n",
              "      <th>color_count</th>\n",
              "      <th>multicolor</th>\n",
              "      <th>color1</th>\n",
              "      <th>color2</th>\n",
              "      <th>color3</th>\n",
              "      <th>color4</th>\n",
              "      <th>Collabo</th>\n",
              "      <th>Collabo_brand</th>\n",
              "      <th>after_day</th>\n",
              "      <th>after_day_log</th>\n",
              "      <th>date_unix</th>\n",
              "      <th>release_date_unix</th>\n",
              "    </tr>\n",
              "  </thead>\n",
              "  <tbody>\n",
              "    <tr>\n",
              "      <th>0</th>\n",
              "      <td>235</td>\n",
              "      <td>124000</td>\n",
              "      <td>2021-11-14</td>\n",
              "      <td>(W) Nike Dunk Low SE Primal Black</td>\n",
              "      <td>2021-11-07</td>\n",
              "      <td>BLACK/MULTI-COLOR/BLACK</td>\n",
              "      <td>129000</td>\n",
              "      <td>Nike</td>\n",
              "      <td>Nike Dunk</td>\n",
              "      <td>41947.0</td>\n",
              "      <td>93.0</td>\n",
              "      <td>4.0</td>\n",
              "      <td>30</td>\n",
              "      <td>Low</td>\n",
              "      <td>1.386295</td>\n",
              "      <td>4.5326</td>\n",
              "      <td>Female</td>\n",
              "      <td>W</td>\n",
              "      <td>3</td>\n",
              "      <td>True</td>\n",
              "      <td>BLACK</td>\n",
              "      <td>MULTI-COLOR</td>\n",
              "      <td>BLACK</td>\n",
              "      <td>NaN</td>\n",
              "      <td>False</td>\n",
              "      <td>None</td>\n",
              "      <td>7</td>\n",
              "      <td>1.945910</td>\n",
              "      <td>738108</td>\n",
              "      <td>738101</td>\n",
              "    </tr>\n",
              "    <tr>\n",
              "      <th>1</th>\n",
              "      <td>255</td>\n",
              "      <td>149000</td>\n",
              "      <td>2021-11-18</td>\n",
              "      <td>(W) Nike Dunk Low SE Primal Black</td>\n",
              "      <td>2021-11-07</td>\n",
              "      <td>BLACK/MULTI-COLOR/BLACK</td>\n",
              "      <td>129000</td>\n",
              "      <td>Nike</td>\n",
              "      <td>Nike Dunk</td>\n",
              "      <td>41947.0</td>\n",
              "      <td>93.0</td>\n",
              "      <td>4.0</td>\n",
              "      <td>30</td>\n",
              "      <td>Low</td>\n",
              "      <td>1.386295</td>\n",
              "      <td>4.5326</td>\n",
              "      <td>Female</td>\n",
              "      <td>W</td>\n",
              "      <td>3</td>\n",
              "      <td>True</td>\n",
              "      <td>BLACK</td>\n",
              "      <td>MULTI-COLOR</td>\n",
              "      <td>BLACK</td>\n",
              "      <td>NaN</td>\n",
              "      <td>False</td>\n",
              "      <td>None</td>\n",
              "      <td>11</td>\n",
              "      <td>2.397895</td>\n",
              "      <td>738112</td>\n",
              "      <td>738101</td>\n",
              "    </tr>\n",
              "    <tr>\n",
              "      <th>2</th>\n",
              "      <td>240</td>\n",
              "      <td>120000</td>\n",
              "      <td>2021-11-24</td>\n",
              "      <td>(W) Nike Dunk Low SE Primal Black</td>\n",
              "      <td>2021-11-07</td>\n",
              "      <td>BLACK/MULTI-COLOR/BLACK</td>\n",
              "      <td>129000</td>\n",
              "      <td>Nike</td>\n",
              "      <td>Nike Dunk</td>\n",
              "      <td>41947.0</td>\n",
              "      <td>93.0</td>\n",
              "      <td>4.0</td>\n",
              "      <td>30</td>\n",
              "      <td>Low</td>\n",
              "      <td>1.386295</td>\n",
              "      <td>4.5326</td>\n",
              "      <td>Female</td>\n",
              "      <td>W</td>\n",
              "      <td>3</td>\n",
              "      <td>True</td>\n",
              "      <td>BLACK</td>\n",
              "      <td>MULTI-COLOR</td>\n",
              "      <td>BLACK</td>\n",
              "      <td>NaN</td>\n",
              "      <td>False</td>\n",
              "      <td>None</td>\n",
              "      <td>17</td>\n",
              "      <td>2.833213</td>\n",
              "      <td>738118</td>\n",
              "      <td>738101</td>\n",
              "    </tr>\n",
              "  </tbody>\n",
              "</table>\n",
              "</div>\n",
              "      <button class=\"colab-df-convert\" onclick=\"convertToInteractive('df-3acdc5dd-631a-454f-abe9-a2ef021071c1')\"\n",
              "              title=\"Convert this dataframe to an interactive table.\"\n",
              "              style=\"display:none;\">\n",
              "        \n",
              "  <svg xmlns=\"http://www.w3.org/2000/svg\" height=\"24px\"viewBox=\"0 0 24 24\"\n",
              "       width=\"24px\">\n",
              "    <path d=\"M0 0h24v24H0V0z\" fill=\"none\"/>\n",
              "    <path d=\"M18.56 5.44l.94 2.06.94-2.06 2.06-.94-2.06-.94-.94-2.06-.94 2.06-2.06.94zm-11 1L8.5 8.5l.94-2.06 2.06-.94-2.06-.94L8.5 2.5l-.94 2.06-2.06.94zm10 10l.94 2.06.94-2.06 2.06-.94-2.06-.94-.94-2.06-.94 2.06-2.06.94z\"/><path d=\"M17.41 7.96l-1.37-1.37c-.4-.4-.92-.59-1.43-.59-.52 0-1.04.2-1.43.59L10.3 9.45l-7.72 7.72c-.78.78-.78 2.05 0 2.83L4 21.41c.39.39.9.59 1.41.59.51 0 1.02-.2 1.41-.59l7.78-7.78 2.81-2.81c.8-.78.8-2.07 0-2.86zM5.41 20L4 18.59l7.72-7.72 1.47 1.35L5.41 20z\"/>\n",
              "  </svg>\n",
              "      </button>\n",
              "      \n",
              "  <style>\n",
              "    .colab-df-container {\n",
              "      display:flex;\n",
              "      flex-wrap:wrap;\n",
              "      gap: 12px;\n",
              "    }\n",
              "\n",
              "    .colab-df-convert {\n",
              "      background-color: #E8F0FE;\n",
              "      border: none;\n",
              "      border-radius: 50%;\n",
              "      cursor: pointer;\n",
              "      display: none;\n",
              "      fill: #1967D2;\n",
              "      height: 32px;\n",
              "      padding: 0 0 0 0;\n",
              "      width: 32px;\n",
              "    }\n",
              "\n",
              "    .colab-df-convert:hover {\n",
              "      background-color: #E2EBFA;\n",
              "      box-shadow: 0px 1px 2px rgba(60, 64, 67, 0.3), 0px 1px 3px 1px rgba(60, 64, 67, 0.15);\n",
              "      fill: #174EA6;\n",
              "    }\n",
              "\n",
              "    [theme=dark] .colab-df-convert {\n",
              "      background-color: #3B4455;\n",
              "      fill: #D2E3FC;\n",
              "    }\n",
              "\n",
              "    [theme=dark] .colab-df-convert:hover {\n",
              "      background-color: #434B5C;\n",
              "      box-shadow: 0px 1px 3px 1px rgba(0, 0, 0, 0.15);\n",
              "      filter: drop-shadow(0px 1px 2px rgba(0, 0, 0, 0.3));\n",
              "      fill: #FFFFFF;\n",
              "    }\n",
              "  </style>\n",
              "\n",
              "      <script>\n",
              "        const buttonEl =\n",
              "          document.querySelector('#df-3acdc5dd-631a-454f-abe9-a2ef021071c1 button.colab-df-convert');\n",
              "        buttonEl.style.display =\n",
              "          google.colab.kernel.accessAllowed ? 'block' : 'none';\n",
              "\n",
              "        async function convertToInteractive(key) {\n",
              "          const element = document.querySelector('#df-3acdc5dd-631a-454f-abe9-a2ef021071c1');\n",
              "          const dataTable =\n",
              "            await google.colab.kernel.invokeFunction('convertToInteractive',\n",
              "                                                     [key], {});\n",
              "          if (!dataTable) return;\n",
              "\n",
              "          const docLinkHtml = 'Like what you see? Visit the ' +\n",
              "            '<a target=\"_blank\" href=https://colab.research.google.com/notebooks/data_table.ipynb>data table notebook</a>'\n",
              "            + ' to learn more about interactive tables.';\n",
              "          element.innerHTML = '';\n",
              "          dataTable['output_type'] = 'display_data';\n",
              "          await google.colab.output.renderOutput(dataTable, element);\n",
              "          const docLink = document.createElement('div');\n",
              "          docLink.innerHTML = docLinkHtml;\n",
              "          element.appendChild(docLink);\n",
              "        }\n",
              "      </script>\n",
              "    </div>\n",
              "  </div>\n",
              "  "
            ],
            "text/plain": [
              "   size   price        date  ... after_day_log date_unix release_date_unix\n",
              "0   235  124000  2021-11-14  ...      1.945910    738108            738101\n",
              "1   255  149000  2021-11-18  ...      2.397895    738112            738101\n",
              "2   240  120000  2021-11-24  ...      2.833213    738118            738101\n",
              "\n",
              "[3 rows x 30 columns]"
            ]
          },
          "metadata": {},
          "execution_count": 5
        }
      ],
      "source": [
        "data = pd.read_csv('/content/nike_dunk(model)_higt_low.csv', index_col = 0)\n",
        "df = data.copy()\n",
        "df.head(3)"
      ]
    },
    {
      "cell_type": "code",
      "execution_count": 6,
      "metadata": {
        "colab": {
          "base_uri": "https://localhost:8080/"
        },
        "id": "f_afz6HXXZBW",
        "outputId": "b0c3dd2d-1cbb-4826-f445-2908ed0b9ede"
      },
      "outputs": [
        {
          "output_type": "execute_result",
          "data": {
            "text/plain": [
              "(197162, 30)"
            ]
          },
          "metadata": {},
          "execution_count": 6
        }
      ],
      "source": [
        "df.shape"
      ]
    },
    {
      "cell_type": "code",
      "source": [
        "#  상관관계 확인 \n",
        "# 전체적인 변수간 상관관계 \n",
        "fig ,ax  = plt.subplots(figsize = (10,8))\n",
        "c = df.corr()\n",
        "sns.heatmap(c , annot = True , fmt ='.1f' , linewidths  = .5 , cmap = 'Blues')\n",
        "plt.show()"
      ],
      "metadata": {
        "colab": {
          "base_uri": "https://localhost:8080/",
          "height": 566
        },
        "id": "6DXq6PB7lizr",
        "outputId": "13a41b68-b6b7-4c02-9bb0-a6916bf5dce6"
      },
      "execution_count": 7,
      "outputs": [
        {
          "output_type": "display_data",
          "data": {
            "image/png": "[encoded data removed]",
            "text/plain": [
              "<Figure size 720x576 with 2 Axes>"
            ]
          },
          "metadata": {
            "needs_background": "light"
          }
        }
      ]
    },
    {
      "cell_type": "code",
      "source": [
        "# 남성, 여성 , 아동 \n",
        "df = df.rename(columns = {'size_type':'sex'})\n",
        "df.loc[(df['sex'].str.contains('W')) | (df['sex'].str.contains(\"GS\")) , 'sex'] =  'W'\n",
        "df.loc[(df['sex'].str.contains('PS')) | (df['sex'].str.contains(\"TD\")) , 'sex'] =  'KID'\n",
        "df['sex'] = df['sex'].astype(str)"
      ],
      "metadata": {
        "id": "N2mzQQ_josYA"
      },
      "execution_count": 8,
      "outputs": []
    },
    {
      "cell_type": "code",
      "execution_count": 9,
      "metadata": {
        "id": "Y7EzXF7vXZFK"
      },
      "outputs": [],
      "source": [
        "# 컬럼 제거 \n",
        "df = df.drop(['date','release_date','number','product','wish','wish_log','review','review_log','color_count','color','color1','color2','color3','color4','brand','release_date_unix','date_unix','after_day_log','size_target'],axis = 1)"
      ]
    },
    {
      "cell_type": "code",
      "execution_count": 10,
      "metadata": {
        "colab": {
          "base_uri": "https://localhost:8080/",
          "height": 394
        },
        "id": "wut1WBcQXZJA",
        "outputId": "bd30b295-c5b3-48aa-80dc-7b4eb89bb0ed"
      },
      "outputs": [
        {
          "output_type": "execute_result",
          "data": {
            "text/html": [
              "\n",
              "  <div id=\"df-294909fa-34c1-4e3c-ac84-c9163162e42d\">\n",
              "    <div class=\"colab-df-container\">\n",
              "      <div>\n",
              "<style scoped>\n",
              "    .dataframe tbody tr th:only-of-type {\n",
              "        vertical-align: middle;\n",
              "    }\n",
              "\n",
              "    .dataframe tbody tr th {\n",
              "        vertical-align: top;\n",
              "    }\n",
              "\n",
              "    .dataframe thead th {\n",
              "        text-align: right;\n",
              "    }\n",
              "</style>\n",
              "<table border=\"1\" class=\"dataframe\">\n",
              "  <thead>\n",
              "    <tr style=\"text-align: right;\">\n",
              "      <th></th>\n",
              "      <th>Total</th>\n",
              "      <th>Percent</th>\n",
              "    </tr>\n",
              "  </thead>\n",
              "  <tbody>\n",
              "    <tr>\n",
              "      <th>after_day</th>\n",
              "      <td>0</td>\n",
              "      <td>0.0</td>\n",
              "    </tr>\n",
              "    <tr>\n",
              "      <th>Collabo_brand</th>\n",
              "      <td>0</td>\n",
              "      <td>0.0</td>\n",
              "    </tr>\n",
              "    <tr>\n",
              "      <th>Collabo</th>\n",
              "      <td>0</td>\n",
              "      <td>0.0</td>\n",
              "    </tr>\n",
              "    <tr>\n",
              "      <th>multicolor</th>\n",
              "      <td>0</td>\n",
              "      <td>0.0</td>\n",
              "    </tr>\n",
              "    <tr>\n",
              "      <th>sex</th>\n",
              "      <td>0</td>\n",
              "      <td>0.0</td>\n",
              "    </tr>\n",
              "    <tr>\n",
              "      <th>type</th>\n",
              "      <td>0</td>\n",
              "      <td>0.0</td>\n",
              "    </tr>\n",
              "    <tr>\n",
              "      <th>transactions</th>\n",
              "      <td>0</td>\n",
              "      <td>0.0</td>\n",
              "    </tr>\n",
              "    <tr>\n",
              "      <th>category</th>\n",
              "      <td>0</td>\n",
              "      <td>0.0</td>\n",
              "    </tr>\n",
              "    <tr>\n",
              "      <th>release_price</th>\n",
              "      <td>0</td>\n",
              "      <td>0.0</td>\n",
              "    </tr>\n",
              "    <tr>\n",
              "      <th>price</th>\n",
              "      <td>0</td>\n",
              "      <td>0.0</td>\n",
              "    </tr>\n",
              "    <tr>\n",
              "      <th>size</th>\n",
              "      <td>0</td>\n",
              "      <td>0.0</td>\n",
              "    </tr>\n",
              "  </tbody>\n",
              "</table>\n",
              "</div>\n",
              "      <button class=\"colab-df-convert\" onclick=\"convertToInteractive('df-294909fa-34c1-4e3c-ac84-c9163162e42d')\"\n",
              "              title=\"Convert this dataframe to an interactive table.\"\n",
              "              style=\"display:none;\">\n",
              "        \n",
              "  <svg xmlns=\"http://www.w3.org/2000/svg\" height=\"24px\"viewBox=\"0 0 24 24\"\n",
              "       width=\"24px\">\n",
              "    <path d=\"M0 0h24v24H0V0z\" fill=\"none\"/>\n",
              "    <path d=\"M18.56 5.44l.94 2.06.94-2.06 2.06-.94-2.06-.94-.94-2.06-.94 2.06-2.06.94zm-11 1L8.5 8.5l.94-2.06 2.06-.94-2.06-.94L8.5 2.5l-.94 2.06-2.06.94zm10 10l.94 2.06.94-2.06 2.06-.94-2.06-.94-.94-2.06-.94 2.06-2.06.94z\"/><path d=\"M17.41 7.96l-1.37-1.37c-.4-.4-.92-.59-1.43-.59-.52 0-1.04.2-1.43.59L10.3 9.45l-7.72 7.72c-.78.78-.78 2.05 0 2.83L4 21.41c.39.39.9.59 1.41.59.51 0 1.02-.2 1.41-.59l7.78-7.78 2.81-2.81c.8-.78.8-2.07 0-2.86zM5.41 20L4 18.59l7.72-7.72 1.47 1.35L5.41 20z\"/>\n",
              "  </svg>\n",
              "      </button>\n",
              "      \n",
              "  <style>\n",
              "    .colab-df-container {\n",
              "      display:flex;\n",
              "      flex-wrap:wrap;\n",
              "      gap: 12px;\n",
              "    }\n",
              "\n",
              "    .colab-df-convert {\n",
              "      background-color: #E8F0FE;\n",
              "      border: none;\n",
              "      border-radius: 50%;\n",
              "      cursor: pointer;\n",
              "      display: none;\n",
              "      fill: #1967D2;\n",
              "      height: 32px;\n",
              "      padding: 0 0 0 0;\n",
              "      width: 32px;\n",
              "    }\n",
              "\n",
              "    .colab-df-convert:hover {\n",
              "      background-color: #E2EBFA;\n",
              "      box-shadow: 0px 1px 2px rgba(60, 64, 67, 0.3), 0px 1px 3px 1px rgba(60, 64, 67, 0.15);\n",
              "      fill: #174EA6;\n",
              "    }\n",
              "\n",
              "    [theme=dark] .colab-df-convert {\n",
              "      background-color: #3B4455;\n",
              "      fill: #D2E3FC;\n",
              "    }\n",
              "\n",
              "    [theme=dark] .colab-df-convert:hover {\n",
              "      background-color: #434B5C;\n",
              "      box-shadow: 0px 1px 3px 1px rgba(0, 0, 0, 0.15);\n",
              "      filter: drop-shadow(0px 1px 2px rgba(0, 0, 0, 0.3));\n",
              "      fill: #FFFFFF;\n",
              "    }\n",
              "  </style>\n",
              "\n",
              "      <script>\n",
              "        const buttonEl =\n",
              "          document.querySelector('#df-294909fa-34c1-4e3c-ac84-c9163162e42d button.colab-df-convert');\n",
              "        buttonEl.style.display =\n",
              "          google.colab.kernel.accessAllowed ? 'block' : 'none';\n",
              "\n",
              "        async function convertToInteractive(key) {\n",
              "          const element = document.querySelector('#df-294909fa-34c1-4e3c-ac84-c9163162e42d');\n",
              "          const dataTable =\n",
              "            await google.colab.kernel.invokeFunction('convertToInteractive',\n",
              "                                                     [key], {});\n",
              "          if (!dataTable) return;\n",
              "\n",
              "          const docLinkHtml = 'Like what you see? Visit the ' +\n",
              "            '<a target=\"_blank\" href=https://colab.research.google.com/notebooks/data_table.ipynb>data table notebook</a>'\n",
              "            + ' to learn more about interactive tables.';\n",
              "          element.innerHTML = '';\n",
              "          dataTable['output_type'] = 'display_data';\n",
              "          await google.colab.output.renderOutput(dataTable, element);\n",
              "          const docLink = document.createElement('div');\n",
              "          docLink.innerHTML = docLinkHtml;\n",
              "          element.appendChild(docLink);\n",
              "        }\n",
              "      </script>\n",
              "    </div>\n",
              "  </div>\n",
              "  "
            ],
            "text/plain": [
              "               Total  Percent\n",
              "after_day          0      0.0\n",
              "Collabo_brand      0      0.0\n",
              "Collabo            0      0.0\n",
              "multicolor         0      0.0\n",
              "sex                0      0.0\n",
              "type               0      0.0\n",
              "transactions       0      0.0\n",
              "category           0      0.0\n",
              "release_price      0      0.0\n",
              "price              0      0.0\n",
              "size               0      0.0"
            ]
          },
          "metadata": {},
          "execution_count": 10
        }
      ],
      "source": [
        "# null 값 보기 \n",
        "tot = df.isnull().sum().sort_values(ascending=False)\n",
        "pct = (df.isnull().sum()/df.isnull().count()).sort_values(ascending=False)\n",
        "missing_data = pd.concat([tot, pct], axis=1, keys=['Total', 'Percent'])\n",
        "missing_data"
      ]
    },
    {
      "cell_type": "code",
      "source": [
        "df.columns"
      ],
      "metadata": {
        "colab": {
          "base_uri": "https://localhost:8080/"
        },
        "id": "h3-e5IiVmi0P",
        "outputId": "34a2312a-94d2-4d44-b7db-0c3c43feaa1f"
      },
      "execution_count": 11,
      "outputs": [
        {
          "output_type": "execute_result",
          "data": {
            "text/plain": [
              "Index(['size', 'price', 'release_price', 'category', 'transactions', 'type',\n",
              "       'sex', 'multicolor', 'Collabo', 'Collabo_brand', 'after_day'],\n",
              "      dtype='object')"
            ]
          },
          "metadata": {},
          "execution_count": 11
        }
      ]
    },
    {
      "cell_type": "code",
      "execution_count": 12,
      "metadata": {
        "id": "V089KRZ3xsD8"
      },
      "outputs": [],
      "source": [
        "dataset = pd.get_dummies(df, columns = ['category', 'sex', 'multicolor', 'Collabo_brand','Collabo','type'])\n",
        "dataset = dataset.drop(['size','price','release_price','transactions'\n",
        "                        ,'after_day'] ,axis = 1 ) "
      ]
    },
    {
      "cell_type": "code",
      "execution_count": 13,
      "metadata": {
        "id": "MpKQSkMhXZV9"
      },
      "outputs": [],
      "source": [
        "# train, test data  생성\n",
        "X = df.drop(['price'], axis = 1)\n",
        "y = df.price\n",
        "X_train, X_test , y_train, y_test =  train_test_split(X,y , random_state = 123)"
      ]
    },
    {
      "cell_type": "code",
      "execution_count": 14,
      "metadata": {
        "id": "bub8Sdn3XZYp"
      },
      "outputs": [],
      "source": [
        "scaler = MinMaxScaler()\n",
        "MM_cols = ['size','release_price','transactions','after_day']\n",
        "\n",
        "#X_train_scaled = scaler.fit_transform(X_train[MM_cols])\n",
        "# X_test_scaled = scaler.transform(X_test[MM_cols])\n",
        "\n",
        "\n",
        "MM_train = pd.DataFrame(scaler.fit_transform(X_train[MM_cols]))\n",
        "MM_test = pd.DataFrame(scaler.transform(X_test[MM_cols]))\n",
        "\n",
        "MM_train.index = X_train.index\n",
        "MM_test.index = y_test.index\n",
        "                       \n",
        "MM_train.columns = ['size','release_price','transactions','after_day']\n",
        "MM_test.columns =  ['size','release_price','transactions','after_day']"
      ]
    },
    {
      "cell_type": "code",
      "execution_count": 15,
      "metadata": {
        "id": "lsiz57aQklSS"
      },
      "outputs": [],
      "source": [
        "X_train = pd.concat([MM_train, dataset], axis =1)\n",
        "X_test = pd.concat([MM_test, dataset], axis =1)"
      ]
    },
    {
      "cell_type": "code",
      "execution_count": 16,
      "metadata": {
        "id": "xCtaJNOUklXg"
      },
      "outputs": [],
      "source": [
        "X_train = X_train.dropna()\n",
        "X_test = X_test.dropna()"
      ]
    },
    {
      "cell_type": "code",
      "execution_count": 17,
      "metadata": {
        "colab": {
          "base_uri": "https://localhost:8080/",
          "height": 368
        },
        "id": "mnduBaz0klcu",
        "outputId": "845b56e4-8d33-4a2f-fb27-ab43fe9406a0"
      },
      "outputs": [
        {
          "output_type": "display_data",
          "data": {
            "text/html": [
              "\n",
              "  <div id=\"df-c4d8d817-c445-49ad-ae30-fb05caa17f76\">\n",
              "    <div class=\"colab-df-container\">\n",
              "      <div>\n",
              "<style scoped>\n",
              "    .dataframe tbody tr th:only-of-type {\n",
              "        vertical-align: middle;\n",
              "    }\n",
              "\n",
              "    .dataframe tbody tr th {\n",
              "        vertical-align: top;\n",
              "    }\n",
              "\n",
              "    .dataframe thead th {\n",
              "        text-align: right;\n",
              "    }\n",
              "</style>\n",
              "<table border=\"1\" class=\"dataframe\">\n",
              "  <thead>\n",
              "    <tr style=\"text-align: right;\">\n",
              "      <th></th>\n",
              "      <th>size</th>\n",
              "      <th>release_price</th>\n",
              "      <th>transactions</th>\n",
              "      <th>after_day</th>\n",
              "      <th>category_Nike Dunk</th>\n",
              "      <th>sex_KID</th>\n",
              "      <th>sex_M</th>\n",
              "      <th>sex_W</th>\n",
              "      <th>multicolor_False</th>\n",
              "      <th>multicolor_True</th>\n",
              "      <th>Collabo_brand_Ambush</th>\n",
              "      <th>Collabo_brand_Fragment</th>\n",
              "      <th>Collabo_brand_Frame Skate</th>\n",
              "      <th>Collabo_brand_Kasina</th>\n",
              "      <th>Collabo_brand_NBA</th>\n",
              "      <th>Collabo_brand_None</th>\n",
              "      <th>Collabo_brand_Off-White</th>\n",
              "      <th>Collabo_brand_Parra</th>\n",
              "      <th>Collabo_brand_Quartersnacks</th>\n",
              "      <th>Collabo_brand_StrangeLove</th>\n",
              "      <th>Collabo_brand_Supreme</th>\n",
              "      <th>Collabo_brand_Travis Scott</th>\n",
              "      <th>Collabo_brand_Undercover</th>\n",
              "      <th>Collabo_False</th>\n",
              "      <th>Collabo_True</th>\n",
              "      <th>type_High</th>\n",
              "      <th>type_Low</th>\n",
              "    </tr>\n",
              "  </thead>\n",
              "  <tbody>\n",
              "    <tr>\n",
              "      <th>0</th>\n",
              "      <td>0.645833</td>\n",
              "      <td>0.416171</td>\n",
              "      <td>0.001598</td>\n",
              "      <td>0.001077</td>\n",
              "      <td>1</td>\n",
              "      <td>0</td>\n",
              "      <td>0</td>\n",
              "      <td>1</td>\n",
              "      <td>0</td>\n",
              "      <td>1</td>\n",
              "      <td>0</td>\n",
              "      <td>0</td>\n",
              "      <td>0</td>\n",
              "      <td>0</td>\n",
              "      <td>0</td>\n",
              "      <td>1</td>\n",
              "      <td>0</td>\n",
              "      <td>0</td>\n",
              "      <td>0</td>\n",
              "      <td>0</td>\n",
              "      <td>0</td>\n",
              "      <td>0</td>\n",
              "      <td>0</td>\n",
              "      <td>1</td>\n",
              "      <td>0</td>\n",
              "      <td>0</td>\n",
              "      <td>1</td>\n",
              "    </tr>\n",
              "    <tr>\n",
              "      <th>1</th>\n",
              "      <td>0.729167</td>\n",
              "      <td>0.416171</td>\n",
              "      <td>0.001598</td>\n",
              "      <td>0.001795</td>\n",
              "      <td>1</td>\n",
              "      <td>0</td>\n",
              "      <td>0</td>\n",
              "      <td>1</td>\n",
              "      <td>0</td>\n",
              "      <td>1</td>\n",
              "      <td>0</td>\n",
              "      <td>0</td>\n",
              "      <td>0</td>\n",
              "      <td>0</td>\n",
              "      <td>0</td>\n",
              "      <td>1</td>\n",
              "      <td>0</td>\n",
              "      <td>0</td>\n",
              "      <td>0</td>\n",
              "      <td>0</td>\n",
              "      <td>0</td>\n",
              "      <td>0</td>\n",
              "      <td>0</td>\n",
              "      <td>1</td>\n",
              "      <td>0</td>\n",
              "      <td>0</td>\n",
              "      <td>1</td>\n",
              "    </tr>\n",
              "    <tr>\n",
              "      <th>3</th>\n",
              "      <td>0.666667</td>\n",
              "      <td>0.416171</td>\n",
              "      <td>0.001598</td>\n",
              "      <td>0.003769</td>\n",
              "      <td>1</td>\n",
              "      <td>0</td>\n",
              "      <td>0</td>\n",
              "      <td>1</td>\n",
              "      <td>0</td>\n",
              "      <td>1</td>\n",
              "      <td>0</td>\n",
              "      <td>0</td>\n",
              "      <td>0</td>\n",
              "      <td>0</td>\n",
              "      <td>0</td>\n",
              "      <td>1</td>\n",
              "      <td>0</td>\n",
              "      <td>0</td>\n",
              "      <td>0</td>\n",
              "      <td>0</td>\n",
              "      <td>0</td>\n",
              "      <td>0</td>\n",
              "      <td>0</td>\n",
              "      <td>1</td>\n",
              "      <td>0</td>\n",
              "      <td>0</td>\n",
              "      <td>1</td>\n",
              "    </tr>\n",
              "  </tbody>\n",
              "</table>\n",
              "</div>\n",
              "      <button class=\"colab-df-convert\" onclick=\"convertToInteractive('df-c4d8d817-c445-49ad-ae30-fb05caa17f76')\"\n",
              "              title=\"Convert this dataframe to an interactive table.\"\n",
              "              style=\"display:none;\">\n",
              "        \n",
              "  <svg xmlns=\"http://www.w3.org/2000/svg\" height=\"24px\"viewBox=\"0 0 24 24\"\n",
              "       width=\"24px\">\n",
              "    <path d=\"M0 0h24v24H0V0z\" fill=\"none\"/>\n",
              "    <path d=\"M18.56 5.44l.94 2.06.94-2.06 2.06-.94-2.06-.94-.94-2.06-.94 2.06-2.06.94zm-11 1L8.5 8.5l.94-2.06 2.06-.94-2.06-.94L8.5 2.5l-.94 2.06-2.06.94zm10 10l.94 2.06.94-2.06 2.06-.94-2.06-.94-.94-2.06-.94 2.06-2.06.94z\"/><path d=\"M17.41 7.96l-1.37-1.37c-.4-.4-.92-.59-1.43-.59-.52 0-1.04.2-1.43.59L10.3 9.45l-7.72 7.72c-.78.78-.78 2.05 0 2.83L4 21.41c.39.39.9.59 1.41.59.51 0 1.02-.2 1.41-.59l7.78-7.78 2.81-2.81c.8-.78.8-2.07 0-2.86zM5.41 20L4 18.59l7.72-7.72 1.47 1.35L5.41 20z\"/>\n",
              "  </svg>\n",
              "      </button>\n",
              "      \n",
              "  <style>\n",
              "    .colab-df-container {\n",
              "      display:flex;\n",
              "      flex-wrap:wrap;\n",
              "      gap: 12px;\n",
              "    }\n",
              "\n",
              "    .colab-df-convert {\n",
              "      background-color: #E8F0FE;\n",
              "      border: none;\n",
              "      border-radius: 50%;\n",
              "      cursor: pointer;\n",
              "      display: none;\n",
              "      fill: #1967D2;\n",
              "      height: 32px;\n",
              "      padding: 0 0 0 0;\n",
              "      width: 32px;\n",
              "    }\n",
              "\n",
              "    .colab-df-convert:hover {\n",
              "      background-color: #E2EBFA;\n",
              "      box-shadow: 0px 1px 2px rgba(60, 64, 67, 0.3), 0px 1px 3px 1px rgba(60, 64, 67, 0.15);\n",
              "      fill: #174EA6;\n",
              "    }\n",
              "\n",
              "    [theme=dark] .colab-df-convert {\n",
              "      background-color: #3B4455;\n",
              "      fill: #D2E3FC;\n",
              "    }\n",
              "\n",
              "    [theme=dark] .colab-df-convert:hover {\n",
              "      background-color: #434B5C;\n",
              "      box-shadow: 0px 1px 3px 1px rgba(0, 0, 0, 0.15);\n",
              "      filter: drop-shadow(0px 1px 2px rgba(0, 0, 0, 0.3));\n",
              "      fill: #FFFFFF;\n",
              "    }\n",
              "  </style>\n",
              "\n",
              "      <script>\n",
              "        const buttonEl =\n",
              "          document.querySelector('#df-c4d8d817-c445-49ad-ae30-fb05caa17f76 button.colab-df-convert');\n",
              "        buttonEl.style.display =\n",
              "          google.colab.kernel.accessAllowed ? 'block' : 'none';\n",
              "\n",
              "        async function convertToInteractive(key) {\n",
              "          const element = document.querySelector('#df-c4d8d817-c445-49ad-ae30-fb05caa17f76');\n",
              "          const dataTable =\n",
              "            await google.colab.kernel.invokeFunction('convertToInteractive',\n",
              "                                                     [key], {});\n",
              "          if (!dataTable) return;\n",
              "\n",
              "          const docLinkHtml = 'Like what you see? Visit the ' +\n",
              "            '<a target=\"_blank\" href=https://colab.research.google.com/notebooks/data_table.ipynb>data table notebook</a>'\n",
              "            + ' to learn more about interactive tables.';\n",
              "          element.innerHTML = '';\n",
              "          dataTable['output_type'] = 'display_data';\n",
              "          await google.colab.output.renderOutput(dataTable, element);\n",
              "          const docLink = document.createElement('div');\n",
              "          docLink.innerHTML = docLinkHtml;\n",
              "          element.appendChild(docLink);\n",
              "        }\n",
              "      </script>\n",
              "    </div>\n",
              "  </div>\n",
              "  "
            ],
            "text/plain": [
              "       size  release_price  transactions  ...  Collabo_True  type_High  type_Low\n",
              "0  0.645833       0.416171      0.001598  ...             0          0         1\n",
              "1  0.729167       0.416171      0.001598  ...             0          0         1\n",
              "3  0.666667       0.416171      0.001598  ...             0          0         1\n",
              "\n",
              "[3 rows x 27 columns]"
            ]
          },
          "metadata": {}
        },
        {
          "output_type": "display_data",
          "data": {
            "text/html": [
              "\n",
              "  <div id=\"df-2a86a10f-e7e8-4ea0-b9ea-7dcf19847309\">\n",
              "    <div class=\"colab-df-container\">\n",
              "      <div>\n",
              "<style scoped>\n",
              "    .dataframe tbody tr th:only-of-type {\n",
              "        vertical-align: middle;\n",
              "    }\n",
              "\n",
              "    .dataframe tbody tr th {\n",
              "        vertical-align: top;\n",
              "    }\n",
              "\n",
              "    .dataframe thead th {\n",
              "        text-align: right;\n",
              "    }\n",
              "</style>\n",
              "<table border=\"1\" class=\"dataframe\">\n",
              "  <thead>\n",
              "    <tr style=\"text-align: right;\">\n",
              "      <th></th>\n",
              "      <th>size</th>\n",
              "      <th>release_price</th>\n",
              "      <th>transactions</th>\n",
              "      <th>after_day</th>\n",
              "      <th>category_Nike Dunk</th>\n",
              "      <th>sex_KID</th>\n",
              "      <th>sex_M</th>\n",
              "      <th>sex_W</th>\n",
              "      <th>multicolor_False</th>\n",
              "      <th>multicolor_True</th>\n",
              "      <th>Collabo_brand_Ambush</th>\n",
              "      <th>Collabo_brand_Fragment</th>\n",
              "      <th>Collabo_brand_Frame Skate</th>\n",
              "      <th>Collabo_brand_Kasina</th>\n",
              "      <th>Collabo_brand_NBA</th>\n",
              "      <th>Collabo_brand_None</th>\n",
              "      <th>Collabo_brand_Off-White</th>\n",
              "      <th>Collabo_brand_Parra</th>\n",
              "      <th>Collabo_brand_Quartersnacks</th>\n",
              "      <th>Collabo_brand_StrangeLove</th>\n",
              "      <th>Collabo_brand_Supreme</th>\n",
              "      <th>Collabo_brand_Travis Scott</th>\n",
              "      <th>Collabo_brand_Undercover</th>\n",
              "      <th>Collabo_False</th>\n",
              "      <th>Collabo_True</th>\n",
              "      <th>type_High</th>\n",
              "      <th>type_Low</th>\n",
              "    </tr>\n",
              "  </thead>\n",
              "  <tbody>\n",
              "    <tr>\n",
              "      <th>2</th>\n",
              "      <td>0.666667</td>\n",
              "      <td>0.416171</td>\n",
              "      <td>0.001598</td>\n",
              "      <td>0.002872</td>\n",
              "      <td>1</td>\n",
              "      <td>0</td>\n",
              "      <td>0</td>\n",
              "      <td>1</td>\n",
              "      <td>0</td>\n",
              "      <td>1</td>\n",
              "      <td>0</td>\n",
              "      <td>0</td>\n",
              "      <td>0</td>\n",
              "      <td>0</td>\n",
              "      <td>0</td>\n",
              "      <td>1</td>\n",
              "      <td>0</td>\n",
              "      <td>0</td>\n",
              "      <td>0</td>\n",
              "      <td>0</td>\n",
              "      <td>0</td>\n",
              "      <td>0</td>\n",
              "      <td>0</td>\n",
              "      <td>1</td>\n",
              "      <td>0</td>\n",
              "      <td>0</td>\n",
              "      <td>1</td>\n",
              "    </tr>\n",
              "    <tr>\n",
              "      <th>9</th>\n",
              "      <td>0.687500</td>\n",
              "      <td>0.416171</td>\n",
              "      <td>0.001598</td>\n",
              "      <td>0.005205</td>\n",
              "      <td>1</td>\n",
              "      <td>0</td>\n",
              "      <td>0</td>\n",
              "      <td>1</td>\n",
              "      <td>0</td>\n",
              "      <td>1</td>\n",
              "      <td>0</td>\n",
              "      <td>0</td>\n",
              "      <td>0</td>\n",
              "      <td>0</td>\n",
              "      <td>0</td>\n",
              "      <td>1</td>\n",
              "      <td>0</td>\n",
              "      <td>0</td>\n",
              "      <td>0</td>\n",
              "      <td>0</td>\n",
              "      <td>0</td>\n",
              "      <td>0</td>\n",
              "      <td>0</td>\n",
              "      <td>1</td>\n",
              "      <td>0</td>\n",
              "      <td>0</td>\n",
              "      <td>1</td>\n",
              "    </tr>\n",
              "    <tr>\n",
              "      <th>10</th>\n",
              "      <td>0.687500</td>\n",
              "      <td>0.416171</td>\n",
              "      <td>0.001598</td>\n",
              "      <td>0.007538</td>\n",
              "      <td>1</td>\n",
              "      <td>0</td>\n",
              "      <td>0</td>\n",
              "      <td>1</td>\n",
              "      <td>0</td>\n",
              "      <td>1</td>\n",
              "      <td>0</td>\n",
              "      <td>0</td>\n",
              "      <td>0</td>\n",
              "      <td>0</td>\n",
              "      <td>0</td>\n",
              "      <td>1</td>\n",
              "      <td>0</td>\n",
              "      <td>0</td>\n",
              "      <td>0</td>\n",
              "      <td>0</td>\n",
              "      <td>0</td>\n",
              "      <td>0</td>\n",
              "      <td>0</td>\n",
              "      <td>1</td>\n",
              "      <td>0</td>\n",
              "      <td>0</td>\n",
              "      <td>1</td>\n",
              "    </tr>\n",
              "  </tbody>\n",
              "</table>\n",
              "</div>\n",
              "      <button class=\"colab-df-convert\" onclick=\"convertToInteractive('df-2a86a10f-e7e8-4ea0-b9ea-7dcf19847309')\"\n",
              "              title=\"Convert this dataframe to an interactive table.\"\n",
              "              style=\"display:none;\">\n",
              "        \n",
              "  <svg xmlns=\"http://www.w3.org/2000/svg\" height=\"24px\"viewBox=\"0 0 24 24\"\n",
              "       width=\"24px\">\n",
              "    <path d=\"M0 0h24v24H0V0z\" fill=\"none\"/>\n",
              "    <path d=\"M18.56 5.44l.94 2.06.94-2.06 2.06-.94-2.06-.94-.94-2.06-.94 2.06-2.06.94zm-11 1L8.5 8.5l.94-2.06 2.06-.94-2.06-.94L8.5 2.5l-.94 2.06-2.06.94zm10 10l.94 2.06.94-2.06 2.06-.94-2.06-.94-.94-2.06-.94 2.06-2.06.94z\"/><path d=\"M17.41 7.96l-1.37-1.37c-.4-.4-.92-.59-1.43-.59-.52 0-1.04.2-1.43.59L10.3 9.45l-7.72 7.72c-.78.78-.78 2.05 0 2.83L4 21.41c.39.39.9.59 1.41.59.51 0 1.02-.2 1.41-.59l7.78-7.78 2.81-2.81c.8-.78.8-2.07 0-2.86zM5.41 20L4 18.59l7.72-7.72 1.47 1.35L5.41 20z\"/>\n",
              "  </svg>\n",
              "      </button>\n",
              "      \n",
              "  <style>\n",
              "    .colab-df-container {\n",
              "      display:flex;\n",
              "      flex-wrap:wrap;\n",
              "      gap: 12px;\n",
              "    }\n",
              "\n",
              "    .colab-df-convert {\n",
              "      background-color: #E8F0FE;\n",
              "      border: none;\n",
              "      border-radius: 50%;\n",
              "      cursor: pointer;\n",
              "      display: none;\n",
              "      fill: #1967D2;\n",
              "      height: 32px;\n",
              "      padding: 0 0 0 0;\n",
              "      width: 32px;\n",
              "    }\n",
              "\n",
              "    .colab-df-convert:hover {\n",
              "      background-color: #E2EBFA;\n",
              "      box-shadow: 0px 1px 2px rgba(60, 64, 67, 0.3), 0px 1px 3px 1px rgba(60, 64, 67, 0.15);\n",
              "      fill: #174EA6;\n",
              "    }\n",
              "\n",
              "    [theme=dark] .colab-df-convert {\n",
              "      background-color: #3B4455;\n",
              "      fill: #D2E3FC;\n",
              "    }\n",
              "\n",
              "    [theme=dark] .colab-df-convert:hover {\n",
              "      background-color: #434B5C;\n",
              "      box-shadow: 0px 1px 3px 1px rgba(0, 0, 0, 0.15);\n",
              "      filter: drop-shadow(0px 1px 2px rgba(0, 0, 0, 0.3));\n",
              "      fill: #FFFFFF;\n",
              "    }\n",
              "  </style>\n",
              "\n",
              "      <script>\n",
              "        const buttonEl =\n",
              "          document.querySelector('#df-2a86a10f-e7e8-4ea0-b9ea-7dcf19847309 button.colab-df-convert');\n",
              "        buttonEl.style.display =\n",
              "          google.colab.kernel.accessAllowed ? 'block' : 'none';\n",
              "\n",
              "        async function convertToInteractive(key) {\n",
              "          const element = document.querySelector('#df-2a86a10f-e7e8-4ea0-b9ea-7dcf19847309');\n",
              "          const dataTable =\n",
              "            await google.colab.kernel.invokeFunction('convertToInteractive',\n",
              "                                                     [key], {});\n",
              "          if (!dataTable) return;\n",
              "\n",
              "          const docLinkHtml = 'Like what you see? Visit the ' +\n",
              "            '<a target=\"_blank\" href=https://colab.research.google.com/notebooks/data_table.ipynb>data table notebook</a>'\n",
              "            + ' to learn more about interactive tables.';\n",
              "          element.innerHTML = '';\n",
              "          dataTable['output_type'] = 'display_data';\n",
              "          await google.colab.output.renderOutput(dataTable, element);\n",
              "          const docLink = document.createElement('div');\n",
              "          docLink.innerHTML = docLinkHtml;\n",
              "          element.appendChild(docLink);\n",
              "        }\n",
              "      </script>\n",
              "    </div>\n",
              "  </div>\n",
              "  "
            ],
            "text/plain": [
              "        size  release_price  transactions  ...  Collabo_True  type_High  type_Low\n",
              "2   0.666667       0.416171      0.001598  ...             0          0         1\n",
              "9   0.687500       0.416171      0.001598  ...             0          0         1\n",
              "10  0.687500       0.416171      0.001598  ...             0          0         1\n",
              "\n",
              "[3 rows x 27 columns]"
            ]
          },
          "metadata": {}
        }
      ],
      "source": [
        "display(X_train.head(3), X_test.head(3)) "
      ]
    },
    {
      "cell_type": "code",
      "execution_count": 18,
      "metadata": {
        "colab": {
          "base_uri": "https://localhost:8080/"
        },
        "id": "dV5ARns_klhf",
        "outputId": "5e0fbdfa-f5e9-43bf-9fc5-ba1e37c3ec7e"
      },
      "outputs": [
        {
          "output_type": "execute_result",
          "data": {
            "text/plain": [
              "RandomForestRegressor(max_depth=50)"
            ]
          },
          "metadata": {},
          "execution_count": 18
        }
      ],
      "source": [
        "# 랜덤 포레스트 \n",
        "\n",
        "rf=RandomForestRegressor(n_estimators=100, max_depth=50)\n",
        "rf.fit(X_train, y_train)  "
      ]
    },
    {
      "cell_type": "code",
      "source": [
        "from sklearn.model_selection import RandomizedSearchCV\n",
        "from pprint import pprint"
      ],
      "metadata": {
        "id": "Zr5yQT24rUMw"
      },
      "execution_count": 19,
      "outputs": []
    },
    {
      "cell_type": "code",
      "execution_count": 20,
      "metadata": {
        "colab": {
          "base_uri": "https://localhost:8080/"
        },
        "id": "6320eVb8ky8L",
        "outputId": "81465e8f-8ab7-4787-9322-13a92f1ba3ad"
      },
      "outputs": [
        {
          "output_type": "execute_result",
          "data": {
            "text/plain": [
              "GridSearchCV(cv=5, estimator=RandomForestRegressor(max_depth=10),\n",
              "             param_grid={'max_depth': [2, 4, 5],\n",
              "                         'max_leaf_nodes': [10, 100, 500]})"
            ]
          },
          "metadata": {},
          "execution_count": 20
        }
      ],
      "source": [
        "param_grid = {\n",
        "    'max_depth':[2,4,5],\n",
        "    'max_leaf_nodes':[10,100,500],  \n",
        "}\n",
        "\n",
        "model = RandomForestRegressor(n_estimators=100, max_depth=10)\n",
        "\n",
        "clf = GridSearchCV(model, cv=5,\n",
        "                   param_grid=param_grid)\n",
        "clf.fit(X_train, y_train) "
      ]
    },
    {
      "cell_type": "code",
      "execution_count": 21,
      "metadata": {
        "colab": {
          "base_uri": "https://localhost:8080/"
        },
        "id": "X0ygPpF6kzZf",
        "outputId": "26951a92-5e56-4f64-f7b8-35e1a8009cf2"
      },
      "outputs": [
        {
          "output_type": "execute_result",
          "data": {
            "text/plain": [
              "RandomForestRegressor(max_depth=2, max_leaf_nodes=10)"
            ]
          },
          "metadata": {},
          "execution_count": 21
        }
      ],
      "source": [
        "clf.best_params_\n",
        "rf_model =clf.best_estimator_\n",
        "rf_model"
      ]
    },
    {
      "cell_type": "code",
      "execution_count": 22,
      "metadata": {
        "colab": {
          "base_uri": "https://localhost:8080/"
        },
        "id": "AN18tqutpld6",
        "outputId": "446a990c-9738-4aed-d91f-acf76208b3c3"
      },
      "outputs": [
        {
          "output_type": "execute_result",
          "data": {
            "text/plain": [
              "RandomForestRegressor(max_depth=2, max_leaf_nodes=500)"
            ]
          },
          "metadata": {},
          "execution_count": 22
        }
      ],
      "source": [
        "rf = RandomForestRegressor(n_estimators= 100 , max_depth =2\n",
        "                           , max_leaf_nodes = 500)\n",
        "rf.fit(X_train ,y_train)"
      ]
    },
    {
      "cell_type": "code",
      "execution_count": 23,
      "metadata": {
        "id": "k0jsYC52kzd1"
      },
      "outputs": [],
      "source": [
        "y_pred = rf_model.predict(X_test)"
      ]
    },
    {
      "cell_type": "code",
      "execution_count": 24,
      "metadata": {
        "colab": {
          "base_uri": "https://localhost:8080/"
        },
        "id": "KsYMu5KgkziA",
        "outputId": "55d2d2c5-f88d-4fdb-adcb-e48122da342d"
      },
      "outputs": [
        {
          "output_type": "stream",
          "name": "stdout",
          "text": [
            "R²: -0.00\n",
            "mean_absolute_error: 159627.69\n",
            "median_absolute_error: 120293.10\n",
            "explained_variance_score: -0.00\n"
          ]
        }
      ],
      "source": [
        "from sklearn import metrics\n",
        "from sklearn.metrics import  r2_score,mean_absolute_error,mean_squared_log_error,median_absolute_error,explained_variance_score,  mean_squared_error\n",
        "\n",
        "print('R²: %.2f' % r2_score(y_test, y_pred))\n",
        "# print(\"mean_squared_log_error: %.2f\" % mean_squared_log_error(y_test, y_pred2))\n",
        "print(\"mean_absolute_error: %.2f\" % mean_absolute_error(y_test, y_pred))\n",
        "print(\"median_absolute_error: %.2f\" % median_absolute_error(y_test, y_pred))\n",
        "print(\"explained_variance_score: %.2f\" % explained_variance_score(y_test, y_pred))"
      ]
    },
    {
      "cell_type": "code",
      "source": [
        "from scipy  import sqrt"
      ],
      "metadata": {
        "id": "0ll-55N4qVj1"
      },
      "execution_count": 25,
      "outputs": []
    },
    {
      "cell_type": "code",
      "execution_count": 26,
      "metadata": {
        "colab": {
          "base_uri": "https://localhost:8080/"
        },
        "id": "iyZDLJTukzmP",
        "outputId": "44bb0dd7-30d6-4f98-d15f-cd487097431c"
      },
      "outputs": [
        {
          "output_type": "stream",
          "name": "stdout",
          "text": [
            "XGB MAE: 159627.68746098524\n",
            "XGB RMSE: 256734.14953991876\n"
          ]
        }
      ],
      "source": [
        "from sklearn.metrics import mean_absolute_error, mean_squared_error\n",
        "print('XGB MAE:', mean_absolute_error(y_test, y_pred))\n",
        "print('XGB RMSE:', np.sqrt(mean_squared_error(y_test, y_pred)))"
      ]
    },
    {
      "cell_type": "code",
      "source": [
        "param_grid = {\n",
        "    \"n_estimators\":[100,200,300],\n",
        "    \"max_depth\":[10, 50, 100],\n",
        "    \"max_features\":[6,8,10,12,14,16]\n",
        "}\n",
        "\n",
        "rf_reg = RandomForestRegressor()\n",
        "\n",
        "rf_reg_tuned = GridSearchCV(estimator=rf_reg,\n",
        "                            param_grid=param_grid,\n",
        "                            cv=3,\n",
        "                            n_jobs=-1,\n",
        "                            verbose=2)\n",
        "\n",
        "rf_reg_tuned.fit(X_train, y_train)\n",
        "rf_reg_tuned.best_estimator_"
      ],
      "metadata": {
        "colab": {
          "base_uri": "https://localhost:8080/"
        },
        "id": "BnAXV6WAuLgI",
        "outputId": "03a0a203-892a-4910-c4ee-14b647d83813"
      },
      "execution_count": 27,
      "outputs": [
        {
          "output_type": "stream",
          "name": "stdout",
          "text": [
            "Fitting 3 folds for each of 54 candidates, totalling 162 fits\n"
          ]
        },
        {
          "output_type": "execute_result",
          "data": {
            "text/plain": [
              "RandomForestRegressor(max_depth=10, max_features=8, n_estimators=300)"
            ]
          },
          "metadata": {},
          "execution_count": 27
        }
      ]
    },
    {
      "cell_type": "code",
      "source": [
        "rf = RandomForestRegressor(n_estimators= 300 , max_depth =10\n",
        "                           , max_features = 6)\n",
        "rf.fit(X_train ,y_train)"
      ],
      "metadata": {
        "colab": {
          "base_uri": "https://localhost:8080/"
        },
        "id": "X39uNSft75AB",
        "outputId": "e49a6fdc-b499-455a-e43d-68f12e40fc1f"
      },
      "execution_count": 28,
      "outputs": [
        {
          "output_type": "execute_result",
          "data": {
            "text/plain": [
              "RandomForestRegressor(max_depth=10, max_features=6, n_estimators=300)"
            ]
          },
          "metadata": {},
          "execution_count": 28
        }
      ]
    },
    {
      "cell_type": "code",
      "source": [
        "y_pred = rf.predict(X_test)"
      ],
      "metadata": {
        "id": "hDREs3yvuLwm"
      },
      "execution_count": 29,
      "outputs": []
    },
    {
      "cell_type": "code",
      "source": [
        "print('XGB MAE:', mean_absolute_error(y_test, y_pred))\n",
        "print('XGB RMSE:', np.sqrt(mean_squared_error(y_test, y_pred)))"
      ],
      "metadata": {
        "colab": {
          "base_uri": "https://localhost:8080/"
        },
        "id": "9U2RGsqn8NaB",
        "outputId": "b3e2652d-3a24-434f-9515-b24ffa1fcfed"
      },
      "execution_count": 30,
      "outputs": [
        {
          "output_type": "stream",
          "name": "stdout",
          "text": [
            "XGB MAE: 159780.69562688543\n",
            "XGB RMSE: 256880.81251317947\n"
          ]
        }
      ]
    },
    {
      "cell_type": "code",
      "source": [
        "index=rf.feature_importances_.argsort()[::-1][0:-1]\n",
        "index_imp=rf.feature_importances_[index]\n",
        "index_name=X_train.columns[index].tolist()\n",
        "feature_importance=list(zip(index_name,index_imp))\n",
        "feature_importance"
      ],
      "metadata": {
        "colab": {
          "base_uri": "https://localhost:8080/"
        },
        "id": "gwcXH3EouL1A",
        "outputId": "ee44d0e6-9f6f-4457-9b3e-aa2627654a6f"
      },
      "execution_count": 31,
      "outputs": [
        {
          "output_type": "execute_result",
          "data": {
            "text/plain": [
              "[('after_day', 0.5365348307457578),\n",
              " ('size', 0.26016366427463494),\n",
              " ('transactions', 0.11012747325715642),\n",
              " ('release_price', 0.04297739811526523),\n",
              " ('type_Low', 0.006523157939618331),\n",
              " ('type_High', 0.005804547687746185),\n",
              " ('sex_W', 0.004780652192036513),\n",
              " ('sex_M', 0.004758227983056077),\n",
              " ('Collabo_brand_Parra', 0.002960844973973152),\n",
              " ('Collabo_brand_Off-White', 0.0021812578680699053),\n",
              " ('sex_KID', 0.0021581921057074833),\n",
              " ('multicolor_True', 0.002069889747981276),\n",
              " ('Collabo_brand_None', 0.0019876555363533125),\n",
              " ('Collabo_True', 0.0019312720401706623),\n",
              " ('Collabo_False', 0.0018180473116738531),\n",
              " ('multicolor_False', 0.0017575126755126282),\n",
              " ('Collabo_brand_StrangeLove', 0.0017170562354424546),\n",
              " ('Collabo_brand_Kasina', 0.0016731072247620565),\n",
              " ('Collabo_brand_Frame Skate', 0.001649940963280579),\n",
              " ('Collabo_brand_Travis Scott', 0.0012825349251533854),\n",
              " ('Collabo_brand_NBA', 0.0012003424080811811),\n",
              " ('Collabo_brand_Ambush', 0.001105235121479301),\n",
              " ('Collabo_brand_Fragment', 0.0010756952765160724),\n",
              " ('Collabo_brand_Undercover', 0.0010415729104008675),\n",
              " ('Collabo_brand_Supreme', 0.000418981614745087),\n",
              " ('Collabo_brand_Quartersnacks', 0.00030090886542520894)]"
            ]
          },
          "metadata": {},
          "execution_count": 31
        }
      ]
    },
    {
      "cell_type": "code",
      "source": [
        "# XGB \n",
        "xgb_model = xgb.XGBRegressor(n_estimators=100, learning_rate=0.08, gamma=0, subsample=0.75,\n",
        "                           colsample_bytree=1, max_depth=7)\n",
        "\n",
        "xgb_model.fit(X_train,y_train)"
      ],
      "metadata": {
        "colab": {
          "base_uri": "https://localhost:8080/"
        },
        "id": "O58RtoP6uL4y",
        "outputId": "af1f9105-2657-4b91-eb42-6d4886f97c14"
      },
      "execution_count": 32,
      "outputs": [
        {
          "output_type": "stream",
          "name": "stdout",
          "text": [
            "[15:10:29] WARNING: /workspace/src/objective/regression_obj.cu:152: reg:linear is now deprecated in favor of reg:squarederror.\n"
          ]
        },
        {
          "output_type": "execute_result",
          "data": {
            "text/plain": [
              "XGBRegressor(learning_rate=0.08, max_depth=7, subsample=0.75)"
            ]
          },
          "metadata": {},
          "execution_count": 32
        }
      ]
    },
    {
      "cell_type": "code",
      "execution_count": 33,
      "metadata": {
        "id": "k_46jOtTklmX",
        "colab": {
          "base_uri": "https://localhost:8080/"
        },
        "outputId": "b2dd9cb7-7e87-44b7-da80-a5a39b9b1a87"
      },
      "outputs": [
        {
          "output_type": "execute_result",
          "data": {
            "text/plain": [
              "array([404188.03, 396814.22, 371163.75, ..., 323160.38, 327088.06,\n",
              "       331703.22], dtype=float32)"
            ]
          },
          "metadata": {},
          "execution_count": 33
        }
      ],
      "source": [
        "xgb_pred = xgb_model.predict(X_test)\n",
        "xgb_pred"
      ]
    },
    {
      "cell_type": "code",
      "execution_count": 34,
      "metadata": {
        "id": "GRUdSTpwXZcM",
        "colab": {
          "base_uri": "https://localhost:8080/",
          "height": 294
        },
        "outputId": "d3593900-fee7-4f59-aebf-a299df93714f"
      },
      "outputs": [
        {
          "output_type": "display_data",
          "data": {
            "image/png": "[encoded data removed]",
            "text/plain": [
              "<Figure size 432x288 with 1 Axes>"
            ]
          },
          "metadata": {
            "needs_background": "light"
          }
        }
      ],
      "source": [
        "xgb.plot_importance(xgb_model)\n",
        "plt.show()"
      ]
    },
    {
      "cell_type": "code",
      "execution_count": 35,
      "metadata": {
        "id": "uYoORpyBXZkg",
        "colab": {
          "base_uri": "https://localhost:8080/"
        },
        "outputId": "b849a897-5e46-4627-8f6a-9ca0afed543e"
      },
      "outputs": [
        {
          "output_type": "stream",
          "name": "stdout",
          "text": [
            "XGB MAE: 160138.89543603294\n",
            "XGB RMSE: 257353.20820413186\n"
          ]
        }
      ],
      "source": [
        "print('XGB MAE:', mean_absolute_error(y_test, xgb_pred))\n",
        "print('XGB RMSE:', np.sqrt(mean_squared_error(y_test, xgb_pred)))"
      ]
    },
    {
      "cell_type": "code",
      "execution_count": 36,
      "metadata": {
        "id": "TIicwObrXZng"
      },
      "outputs": [],
      "source": [
        "# catboost\n",
        "cb_model = CatBoostRegressor(iterations=1000, learning_rate=0.1, depth=4, l2_leaf_reg=20, \n",
        "                             bootstrap_type='Bernoulli', subsample=0.6, eval_metric='RMSE', \n",
        "                             metric_period=50, od_type='Iter', od_wait=45, random_seed=17, allow_writing_files=False)"
      ]
    },
    {
      "cell_type": "code",
      "source": [
        "cb_model = cb_model.fit(X_train, y_train, eval_set = (X_test ,y_test), early_stopping_rounds=100,verbose = False)\n",
        "cb_model"
      ],
      "metadata": {
        "colab": {
          "base_uri": "https://localhost:8080/"
        },
        "id": "MuBDlUNL-OWE",
        "outputId": "e8c7e09e-4662-4478-d5a5-5609a0a2a46b"
      },
      "execution_count": 37,
      "outputs": [
        {
          "output_type": "stream",
          "name": "stderr",
          "text": [
            "Warning: Overfitting detector is active, thus evaluation metric is calculated on every iteration. 'metric_period' is ignored for evaluation metric.\n"
          ]
        },
        {
          "output_type": "execute_result",
          "data": {
            "text/plain": [
              "<catboost.core.CatBoostRegressor at 0x7fbe9e778290>"
            ]
          },
          "metadata": {},
          "execution_count": 37
        }
      ]
    },
    {
      "cell_type": "code",
      "source": [
        "cb_pred = cb_model.predict(X_test)\n",
        "cb_pred"
      ],
      "metadata": {
        "colab": {
          "base_uri": "https://localhost:8080/"
        },
        "id": "Ih-EcRRX-Obl",
        "outputId": "752ddfa2-4ab6-470e-eaf4-9a80d820c728"
      },
      "execution_count": 38,
      "outputs": [
        {
          "output_type": "execute_result",
          "data": {
            "text/plain": [
              "array([330655.22761027, 330655.22761027, 330655.22761027, ...,\n",
              "       329184.71668205, 329184.71668205, 329184.71668205])"
            ]
          },
          "metadata": {},
          "execution_count": 38
        }
      ]
    },
    {
      "cell_type": "code",
      "source": [
        "print('XGB MAE:', mean_absolute_error(y_test, cb_pred))\n",
        "print('XGB RMSE:', np.sqrt(mean_squared_error(y_test, cb_pred)))"
      ],
      "metadata": {
        "colab": {
          "base_uri": "https://localhost:8080/"
        },
        "id": "cFQQCbD6-Og_",
        "outputId": "379eb45c-4ed3-40b8-aa23-395367440849"
      },
      "execution_count": 39,
      "outputs": [
        {
          "output_type": "stream",
          "name": "stdout",
          "text": [
            "XGB MAE: 159600.88039461453\n",
            "XGB RMSE: 256720.41419369602\n"
          ]
        }
      ]
    },
    {
      "cell_type": "code",
      "source": [
        "# LightGBM\n",
        "def run_lgb(X_train, y_train, X_test, y_test):\n",
        "    params = {\n",
        "        \"objective\" : \"regression\",\n",
        "        \"metric\" : \"rmse\",\n",
        "        \"num_leaves\" : 40,\n",
        "        \"learning_rate\" : 0.004,\n",
        "        \"bagging_fraction\" : 0.6,\n",
        "        \"feature_fraction\" : 0.6,\n",
        "        \"bagging_frequency\" : 6,\n",
        "        \"bagging_seed\" : 42,\n",
        "        \"verbosity\" : -1,\n",
        "        \"seed\": 42\n",
        "    }\n",
        "    \n",
        "    lgtrain = lgb.Dataset(X_train, label=y_train)\n",
        "    lgval = lgb.Dataset(X_test, label=y_test)\n",
        "    evals_result = {}\n",
        "    model = lgb.train(params, lgtrain, 5000, \n",
        "                      valid_sets=[lgtrain, lgval], \n",
        "                      early_stopping_rounds=100, \n",
        "                      verbose_eval=150, \n",
        "                      evals_result=evals_result)\n",
        "    \n",
        "    pred_test_y = np.expm1(model.predict(X_test, num_iteration=model.best_iteration))\n",
        "    return pred_test_y, model, evals_result"
      ],
      "metadata": {
        "id": "yeVQSD4N-Omn"
      },
      "execution_count": 40,
      "outputs": []
    },
    {
      "cell_type": "code",
      "source": [
        "pred_test, model, evals_result = run_lgb(X_train,y_train, X_test, y_test)\n",
        "print(\"LightGBM Training Completed...\")"
      ],
      "metadata": {
        "colab": {
          "base_uri": "https://localhost:8080/"
        },
        "id": "vbL71HrC-OsG",
        "outputId": "d36ae53f-43b0-48a9-acbf-66c6c81a17ef"
      },
      "execution_count": 41,
      "outputs": [
        {
          "output_type": "stream",
          "name": "stdout",
          "text": [
            "Training until validation scores don't improve for 100 rounds.\n",
            "Early stopping, best iteration is:\n",
            "[1]\ttraining's rmse: 258966\tvalid_1's rmse: 256723\n",
            "LightGBM Training Completed...\n"
          ]
        }
      ]
    }
  ],
  "metadata": {
    "colab": {
      "name": "model_Randomforest & XGB & Catboost & Lightgbm.ipynb",
      "provenance": []
    },
    "kernelspec": {
      "display_name": "Python 3",
      "name": "python3"
    },
    "language_info": {
      "name": "python"
    }
  },
  "nbformat": 4,
  "nbformat_minor": 0
}