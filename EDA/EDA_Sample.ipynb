{
 "cells": [
  {
   "cell_type": "code",
   "execution_count": 1,
   "id": "bf9908b6",
   "metadata": {},
   "outputs": [],
   "source": [
    "import pandas as pd\n",
    "import numpy as np\n",
    "import matplotlib.pyplot as plt\n",
    "import seaborn as sns\n",
    "%matplotlib inline\n",
    "\n",
    "import warnings\n",
    "warnings.filterwarnings(action='ignore')"
   ]
  },
  {
   "cell_type": "code",
   "execution_count": 6,
   "id": "08877dbb",
   "metadata": {},
   "outputs": [
    {
     "data": {
      "text/html": [
       "<div>\n",
       "<style scoped>\n",
       "    .dataframe tbody tr th:only-of-type {\n",
       "        vertical-align: middle;\n",
       "    }\n",
       "\n",
       "    .dataframe tbody tr th {\n",
       "        vertical-align: top;\n",
       "    }\n",
       "\n",
       "    .dataframe thead th {\n",
       "        text-align: right;\n",
       "    }\n",
       "</style>\n",
       "<table border=\"1\" class=\"dataframe\">\n",
       "  <thead>\n",
       "    <tr style=\"text-align: right;\">\n",
       "      <th></th>\n",
       "      <th>size</th>\n",
       "      <th>price</th>\n",
       "      <th>date</th>\n",
       "      <th>product</th>\n",
       "      <th>release_date</th>\n",
       "      <th>color</th>\n",
       "      <th>release_price</th>\n",
       "    </tr>\n",
       "  </thead>\n",
       "  <tbody>\n",
       "    <tr>\n",
       "      <th>0</th>\n",
       "      <td>235</td>\n",
       "      <td>250000</td>\n",
       "      <td>738044</td>\n",
       "      <td>(GS) Nike Dunk Low Championship Grey</td>\n",
       "      <td>738035</td>\n",
       "      <td>WOLFGREY/DARKOBSIDIAN-TOTALORANGE</td>\n",
       "      <td>100800</td>\n",
       "    </tr>\n",
       "    <tr>\n",
       "      <th>1</th>\n",
       "      <td>235</td>\n",
       "      <td>250000</td>\n",
       "      <td>738045</td>\n",
       "      <td>(GS) Nike Dunk Low Championship Grey</td>\n",
       "      <td>738035</td>\n",
       "      <td>WOLFGREY/DARKOBSIDIAN-TOTALORANGE</td>\n",
       "      <td>100800</td>\n",
       "    </tr>\n",
       "    <tr>\n",
       "      <th>2</th>\n",
       "      <td>240</td>\n",
       "      <td>280000</td>\n",
       "      <td>738051</td>\n",
       "      <td>(GS) Nike Dunk Low Championship Grey</td>\n",
       "      <td>738035</td>\n",
       "      <td>WOLFGREY/DARKOBSIDIAN-TOTALORANGE</td>\n",
       "      <td>100800</td>\n",
       "    </tr>\n",
       "    <tr>\n",
       "      <th>3</th>\n",
       "      <td>235</td>\n",
       "      <td>260000</td>\n",
       "      <td>738052</td>\n",
       "      <td>(GS) Nike Dunk Low Championship Grey</td>\n",
       "      <td>738035</td>\n",
       "      <td>WOLFGREY/DARKOBSIDIAN-TOTALORANGE</td>\n",
       "      <td>100800</td>\n",
       "    </tr>\n",
       "    <tr>\n",
       "      <th>4</th>\n",
       "      <td>240</td>\n",
       "      <td>240000</td>\n",
       "      <td>738052</td>\n",
       "      <td>(GS) Nike Dunk Low Championship Grey</td>\n",
       "      <td>738035</td>\n",
       "      <td>WOLFGREY/DARKOBSIDIAN-TOTALORANGE</td>\n",
       "      <td>100800</td>\n",
       "    </tr>\n",
       "  </tbody>\n",
       "</table>\n",
       "</div>"
      ],
      "text/plain": [
       "  size   price    date                               product  release_date  \\\n",
       "0  235  250000  738044  (GS) Nike Dunk Low Championship Grey        738035   \n",
       "1  235  250000  738045  (GS) Nike Dunk Low Championship Grey        738035   \n",
       "2  240  280000  738051  (GS) Nike Dunk Low Championship Grey        738035   \n",
       "3  235  260000  738052  (GS) Nike Dunk Low Championship Grey        738035   \n",
       "4  240  240000  738052  (GS) Nike Dunk Low Championship Grey        738035   \n",
       "\n",
       "                               color release_price  \n",
       "0  WOLFGREY/DARKOBSIDIAN-TOTALORANGE        100800  \n",
       "1  WOLFGREY/DARKOBSIDIAN-TOTALORANGE        100800  \n",
       "2  WOLFGREY/DARKOBSIDIAN-TOTALORANGE        100800  \n",
       "3  WOLFGREY/DARKOBSIDIAN-TOTALORANGE        100800  \n",
       "4  WOLFGREY/DARKOBSIDIAN-TOTALORANGE        100800  "
      ]
     },
     "execution_count": 6,
     "metadata": {},
     "output_type": "execute_result"
    }
   ],
   "source": [
    "df = pd.read_csv('clean_data.csv',  index_col = 0)\n",
    "df.head()"
   ]
  },
  {
   "cell_type": "code",
   "execution_count": 11,
   "id": "aa94eaa1",
   "metadata": {},
   "outputs": [
    {
     "data": {
      "text/plain": [
       "{'100800',\n",
       " '101000',\n",
       " '106800',\n",
       " '106900',\n",
       " '109000',\n",
       " '112700',\n",
       " '115000',\n",
       " '116300',\n",
       " '118600',\n",
       " 118600,\n",
       " '118800',\n",
       " 119000,\n",
       " '119000',\n",
       " 124900,\n",
       " 129000,\n",
       " '129000',\n",
       " '130500',\n",
       " '130700',\n",
       " '136600',\n",
       " 139000,\n",
       " '142400',\n",
       " '142600',\n",
       " '143300',\n",
       " '147400',\n",
       " '148500',\n",
       " 149000,\n",
       " '159300',\n",
       " '160200',\n",
       " 160900,\n",
       " '160900',\n",
       " '178000',\n",
       " '178300',\n",
       " '179000',\n",
       " '186300',\n",
       " '21-07-22',\n",
       " '213600',\n",
       " '213900',\n",
       " 219000,\n",
       " '219000',\n",
       " '227200',\n",
       " '227600',\n",
       " '241900',\n",
       " '242300',\n",
       " '59300',\n",
       " '59400',\n",
       " '69000',\n",
       " '71200',\n",
       " '72400',\n",
       " '74000',\n",
       " '77200',\n",
       " 79000,\n",
       " '79000',\n",
       " 85000,\n",
       " '85800',\n",
       " '89100',\n",
       " '94900',\n",
       " '99000',\n",
       " 99000}"
      ]
     },
     "execution_count": 11,
     "metadata": {},
     "output_type": "execute_result"
    }
   ],
   "source": [
    "set(df['release_price'])"
   ]
  },
  {
   "cell_type": "code",
   "execution_count": null,
   "id": "19289dc0",
   "metadata": {},
   "outputs": [],
   "source": []
  },
  {
   "cell_type": "code",
   "execution_count": null,
   "id": "fe47133b",
   "metadata": {},
   "outputs": [],
   "source": []
  },
  {
   "cell_type": "code",
   "execution_count": null,
   "id": "4cc0445a",
   "metadata": {},
   "outputs": [],
   "source": []
  },
  {
   "cell_type": "code",
   "execution_count": null,
   "id": "81d4ec04",
   "metadata": {},
   "outputs": [],
   "source": []
  },
  {
   "cell_type": "code",
   "execution_count": null,
   "id": "ee28f6b1",
   "metadata": {},
   "outputs": [],
   "source": []
  },
  {
   "cell_type": "code",
   "execution_count": null,
   "id": "efe71748",
   "metadata": {},
   "outputs": [],
   "source": []
  },
  {
   "cell_type": "code",
   "execution_count": null,
   "id": "7efc68c0",
   "metadata": {},
   "outputs": [],
   "source": []
  },
  {
   "cell_type": "code",
   "execution_count": null,
   "id": "48d1e7f3",
   "metadata": {},
   "outputs": [],
   "source": []
  },
  {
   "cell_type": "code",
   "execution_count": null,
   "id": "d732be27",
   "metadata": {},
   "outputs": [],
   "source": []
  }
 ],
 "metadata": {
  "kernelspec": {
   "display_name": "Python 3 (ipykernel)",
   "language": "python",
   "name": "python3"
  },
  "language_info": {
   "codemirror_mode": {
    "name": "ipython",
    "version": 3
   },
   "file_extension": ".py",
   "mimetype": "text/x-python",
   "name": "python",
   "nbconvert_exporter": "python",
   "pygments_lexer": "ipython3",
   "version": "3.9.7"
  }
 },
 "nbformat": 4,
 "nbformat_minor": 5
}
